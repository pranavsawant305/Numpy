{
 "cells": [
  {
   "cell_type": "markdown",
   "id": "3612ced4-d49c-42b5-bf06-c36b834acead",
   "metadata": {},
   "source": [
    "# Numpy :(Numerical python) Act as a :  FOUNDATION FOR  DATA SCIENCE\n",
    "\n",
    "- Numpy is a python library/package for mathematical computing and processing multi dimensional array.\n",
    "- It is written in C \n",
    "- It overcomes the prpblem of running slower algorithms on python by using multi dimensional arrays and functions that operate on arrays.\n",
    "- Any algorithm that can be expressed as function on arrays, allow us to execute te algorithms to be run quickly.\n",
    "\n",
    "\n",
    "\n",
    "# Numpy Features:\n",
    "- Powerful tool for handling large amount of data using ndarry in terms of computation speed and memory.\n",
    "- executes element wise operations and mathematical calculations in a very efficient manner \n",
    "- provides efficient way to store and manipulating the data\n",
    "- performs linear algebra,fourier transform or any complex operations very conviniently."
   ]
  },
  {
   "cell_type": "markdown",
   "id": "dd3a46f8-edba-4027-95b2-c80819ee0b2e",
   "metadata": {},
   "source": [
    "# the core data structure of numpy is ndarray\n",
    "\n",
    "\n",
    "## numpy Applications :\n",
    "\n",
    "- Used in Data science to handle vast amount of data and process it efficiently in terms of resource and time.\n",
    "\n",
    "- Used in Deep learning where images are presented in the form of pixel then we make it array or matrix to perform any operation on it to get useful information "
   ]
  },
  {
   "cell_type": "markdown",
   "id": "ea01c9a3-17aa-4229-94fa-7522ff882828",
   "metadata": {},
   "source": [
    "# ARRAY :\n",
    "\n",
    "- stores homegeneous data \n",
    "- only be numbers (int,float,complex) #note : It can store the  string data but not used that way.\n",
    "- Fast and efficient\n",
    "- supports various mathematical functions.\n"
   ]
  },
  {
   "cell_type": "code",
   "execution_count": 1,
   "id": "57b19cc3-18bb-4d14-947b-1867fc23cbe4",
   "metadata": {},
   "outputs": [],
   "source": [
    "d=[400,300,100,200]  ## input\n",
    "sp=[40,50,70,60]  ## input\n",
    "# t=[10,6,1.42,3.33]  ## output"
   ]
  },
  {
   "cell_type": "code",
   "execution_count": 2,
   "id": "c5d92506-b564-40ff-9af5-61134dce716e",
   "metadata": {},
   "outputs": [],
   "source": [
    "# using zip"
   ]
  },
  {
   "cell_type": "code",
   "execution_count": 3,
   "id": "31dc8010-4698-4f06-b091-a642f08dd8f9",
   "metadata": {},
   "outputs": [],
   "source": [
    "# using len"
   ]
  },
  {
   "cell_type": "code",
   "execution_count": 4,
   "id": "c067fe28-62c9-4c1c-bb1e-2f6ee209e953",
   "metadata": {},
   "outputs": [],
   "source": [
    "# using map"
   ]
  },
  {
   "cell_type": "code",
   "execution_count": 5,
   "id": "2fcca4c2-154b-46ab-87f2-46426ccce449",
   "metadata": {},
   "outputs": [],
   "source": [
    "import numpy as np"
   ]
  },
  {
   "cell_type": "code",
   "execution_count": 6,
   "id": "c01bf5bc-8af3-4965-ba53-a940990221ea",
   "metadata": {},
   "outputs": [
    {
     "name": "stdout",
     "output_type": "stream",
     "text": [
      "<class 'numpy.ndarray'>\n"
     ]
    }
   ],
   "source": [
    "d=[400,300,100,200]  ## input\n",
    "sp=[40,50,70,60]  ## input\n",
    "\n",
    "\n",
    "d1=np.array(d)\n",
    "s1=np.array(sp)\n",
    "print(type(d1))\n",
    "# t=[10,6,1.42,3.33]  ## output"
   ]
  },
  {
   "cell_type": "code",
   "execution_count": 7,
   "id": "cbc19718-0798-4b61-8750-ae5eef7505ae",
   "metadata": {},
   "outputs": [
    {
     "data": {
      "text/plain": [
       "array([10.        ,  6.        ,  1.42857143,  3.33333333])"
      ]
     },
     "execution_count": 7,
     "metadata": {},
     "output_type": "execute_result"
    }
   ],
   "source": [
    "d1/s1"
   ]
  },
  {
   "cell_type": "code",
   "execution_count": 8,
   "id": "35ec3b9f-5a55-4908-88f8-7d8533f144dc",
   "metadata": {},
   "outputs": [
    {
     "ename": "TypeError",
     "evalue": "unsupported operand type(s) for /: 'list' and 'list'",
     "output_type": "error",
     "traceback": [
      "\u001b[1;31m---------------------------------------------------------------------------\u001b[0m",
      "\u001b[1;31mTypeError\u001b[0m                                 Traceback (most recent call last)",
      "Cell \u001b[1;32mIn[8], line 1\u001b[0m\n\u001b[1;32m----> 1\u001b[0m d\u001b[38;5;241m/\u001b[39msp\n",
      "\u001b[1;31mTypeError\u001b[0m: unsupported operand type(s) for /: 'list' and 'list'"
     ]
    }
   ],
   "source": [
    "d/sp"
   ]
  },
  {
   "cell_type": "markdown",
   "id": "6d381dcf-7cb0-42d9-b4f5-c24236ee3ae7",
   "metadata": {},
   "source": [
    "# how to create a array\n",
    "- list\n",
    "- tuple\n",
    "- scalor\n",
    "- numpy function"
   ]
  },
  {
   "cell_type": "code",
   "execution_count": 2,
   "id": "c03ce9d4-7e2a-4f27-92f2-7e4d733a4136",
   "metadata": {},
   "outputs": [],
   "source": [
    "import numpy as np"
   ]
  },
  {
   "cell_type": "markdown",
   "id": "cdad8d24-774b-48f3-a7b5-bca467f89771",
   "metadata": {},
   "source": [
    "# from list"
   ]
  },
  {
   "cell_type": "markdown",
   "id": "d4eba93f-02b1-4daf-9153-eef5fb2e1ce6",
   "metadata": {},
   "source": [
    "# 1 d"
   ]
  },
  {
   "cell_type": "code",
   "execution_count": 3,
   "id": "c6e53f7c-3761-442c-8f49-df5ae2bde4c9",
   "metadata": {},
   "outputs": [
    {
     "name": "stdout",
     "output_type": "stream",
     "text": [
      "[1 2 3 4 5]\n"
     ]
    },
    {
     "data": {
      "text/plain": [
       "numpy.ndarray"
      ]
     },
     "execution_count": 3,
     "metadata": {},
     "output_type": "execute_result"
    }
   ],
   "source": [
    "a=np.array([1,2,3,4,5])\n",
    "print(a)\n",
    "type(a)"
   ]
  },
  {
   "cell_type": "markdown",
   "id": "290cf82f-dce8-4c86-a287-cfc405b6e58c",
   "metadata": {},
   "source": [
    "# 2 d"
   ]
  },
  {
   "cell_type": "code",
   "execution_count": 4,
   "id": "0514c725-838c-4487-a370-317dfb4e1d66",
   "metadata": {},
   "outputs": [
    {
     "name": "stdout",
     "output_type": "stream",
     "text": [
      "[[1 2 3 4 5]\n",
      " [6 7 8 6 7]]\n"
     ]
    },
    {
     "data": {
      "text/plain": [
       "numpy.ndarray"
      ]
     },
     "execution_count": 4,
     "metadata": {},
     "output_type": "execute_result"
    }
   ],
   "source": [
    "a=np.array([[1,2,3,4,5],[6,7,8,6,7]])\n",
    "print(a)\n",
    "type(a)"
   ]
  },
  {
   "cell_type": "markdown",
   "id": "69ae915a-21b4-47f9-bb2c-29a51e85311c",
   "metadata": {},
   "source": [
    "# from tuple"
   ]
  },
  {
   "cell_type": "markdown",
   "id": "96e0fb0b-6da1-4bc4-b3a4-b9210b3f6e65",
   "metadata": {},
   "source": [
    "# 2 d"
   ]
  },
  {
   "cell_type": "code",
   "execution_count": 5,
   "id": "fe5cc6ee-0b09-479d-b2ae-fefe668c4751",
   "metadata": {},
   "outputs": [
    {
     "name": "stdout",
     "output_type": "stream",
     "text": [
      "[[1 2 3 4 5]\n",
      " [6 7 8 6 7]]\n"
     ]
    },
    {
     "data": {
      "text/plain": [
       "numpy.ndarray"
      ]
     },
     "execution_count": 5,
     "metadata": {},
     "output_type": "execute_result"
    }
   ],
   "source": [
    "a=np.array(((1,2,3,4,5),(6,7,8,6,7)))\n",
    "print(a)\n",
    "type(a)"
   ]
  },
  {
   "cell_type": "markdown",
   "id": "615c74c2-4ff0-482b-97bb-519f418a0952",
   "metadata": {},
   "source": [
    "# from scalor"
   ]
  },
  {
   "cell_type": "code",
   "execution_count": 18,
   "id": "47eb8598-2fd0-48cd-ac04-1c9fcd5abdcd",
   "metadata": {},
   "outputs": [
    {
     "name": "stdout",
     "output_type": "stream",
     "text": [
      "6\n"
     ]
    },
    {
     "data": {
      "text/plain": [
       "numpy.ndarray"
      ]
     },
     "execution_count": 18,
     "metadata": {},
     "output_type": "execute_result"
    }
   ],
   "source": [
    "a=np.array(6)\n",
    "print(a)\n",
    "type(a)"
   ]
  },
  {
   "cell_type": "code",
   "execution_count": 19,
   "id": "65f26483-2628-4a7f-9e44-a5e342b96519",
   "metadata": {},
   "outputs": [
    {
     "data": {
      "text/plain": [
       "array(6)"
      ]
     },
     "execution_count": 19,
     "metadata": {},
     "output_type": "execute_result"
    }
   ],
   "source": [
    "a"
   ]
  },
  {
   "cell_type": "markdown",
   "id": "eaf4ec5d-21d2-4c60-9ca3-4e4f432bc8fb",
   "metadata": {},
   "source": [
    "# array properties\n",
    "- ndim\n",
    "- shape\n",
    "- size\n",
    "- dtype\n",
    "- itemsize"
   ]
  },
  {
   "cell_type": "markdown",
   "id": "fd0aae0b-f7c8-4001-9cf1-5b0c42816c06",
   "metadata": {},
   "source": [
    "# ndim: it tells the number of dimension\n",
    "# note: open brackets in starting"
   ]
  },
  {
   "cell_type": "code",
   "execution_count": 21,
   "id": "34bf9598-5ad7-4143-9a73-9da1eb482be6",
   "metadata": {},
   "outputs": [
    {
     "name": "stdout",
     "output_type": "stream",
     "text": [
      "[1 2 3]\n"
     ]
    },
    {
     "data": {
      "text/plain": [
       "1"
      ]
     },
     "execution_count": 21,
     "metadata": {},
     "output_type": "execute_result"
    }
   ],
   "source": [
    "# 1 d\n",
    "a=np.array([1,2,3])\n",
    "print(a)\n",
    "a.ndim"
   ]
  },
  {
   "cell_type": "code",
   "execution_count": 22,
   "id": "ced32ca8-08d5-47e6-8d92-530fa63dbf7e",
   "metadata": {},
   "outputs": [
    {
     "name": "stdout",
     "output_type": "stream",
     "text": [
      "[[1 2 3]\n",
      " [1 2 3]]\n"
     ]
    },
    {
     "data": {
      "text/plain": [
       "2"
      ]
     },
     "execution_count": 22,
     "metadata": {},
     "output_type": "execute_result"
    }
   ],
   "source": [
    "# 2 d\n",
    "a=np.array([[1,2,3],[1,2,3]])\n",
    "print(a)\n",
    "a.ndim"
   ]
  },
  {
   "cell_type": "code",
   "execution_count": 23,
   "id": "576ce591-168d-4437-87fc-15f112edaab0",
   "metadata": {},
   "outputs": [
    {
     "name": "stdout",
     "output_type": "stream",
     "text": [
      "[[[1 2 3]\n",
      "  [1 2 3]]\n",
      "\n",
      " [[1 2 3]\n",
      "  [1 2 3]]]\n"
     ]
    },
    {
     "data": {
      "text/plain": [
       "3"
      ]
     },
     "execution_count": 23,
     "metadata": {},
     "output_type": "execute_result"
    }
   ],
   "source": [
    "# 3 d\n",
    "a=np.array([[[1,2,3],[1,2,3]],[[1,2,3],[1,2,3]]])\n",
    "print(a)\n",
    "a.ndim"
   ]
  },
  {
   "cell_type": "code",
   "execution_count": 9,
   "id": "97bd5ca5-3aa2-40d1-a1e7-5c6ee9583d7c",
   "metadata": {},
   "outputs": [
    {
     "name": "stdout",
     "output_type": "stream",
     "text": [
      "[[[[1 2 3]\n",
      "   [1 2 3]]\n",
      "\n",
      "  [[1 2 3]\n",
      "   [1 2 3]]]\n",
      "\n",
      "\n",
      " [[[1 2 3]\n",
      "   [1 2 3]]\n",
      "\n",
      "  [[1 2 3]\n",
      "   [1 2 3]]]]\n"
     ]
    },
    {
     "data": {
      "text/plain": [
       "4"
      ]
     },
     "execution_count": 9,
     "metadata": {},
     "output_type": "execute_result"
    }
   ],
   "source": [
    "# 4 d\n",
    "a=np.array([[[[1,2,3],[1,2,3]],[[1,2,3],[1,2,3]]],[[[1,2,3],[1,2,3]],[[1,2,3],[1,2,3]]]])\n",
    "print(a)\n",
    "a.ndim"
   ]
  },
  {
   "cell_type": "code",
   "execution_count": 27,
   "id": "fd50b839-1ba5-4e7f-924b-09ea85a70839",
   "metadata": {},
   "outputs": [
    {
     "name": "stdout",
     "output_type": "stream",
     "text": [
      "[[[[[1 2 3]]]]]\n"
     ]
    },
    {
     "data": {
      "text/plain": [
       "5"
      ]
     },
     "execution_count": 27,
     "metadata": {},
     "output_type": "execute_result"
    }
   ],
   "source": [
    "# 5 d\n",
    "a=np.array([[[[[1,2,3]]]]])\n",
    "print(a)\n",
    "a.ndim"
   ]
  },
  {
   "cell_type": "code",
   "execution_count": 28,
   "id": "9984e712-9402-40ca-86d7-0093b8c2ddd0",
   "metadata": {},
   "outputs": [
    {
     "name": "stdout",
     "output_type": "stream",
     "text": [
      "[[[[[[[[[[1 2 3]]]]]]]]]]\n"
     ]
    },
    {
     "data": {
      "text/plain": [
       "10"
      ]
     },
     "execution_count": 28,
     "metadata": {},
     "output_type": "execute_result"
    }
   ],
   "source": [
    "# 10 d\n",
    "a=np.array([[[[[[[[[[1,2,3]]]]]]]]]])\n",
    "print(a)\n",
    "a.ndim"
   ]
  },
  {
   "cell_type": "code",
   "execution_count": 30,
   "id": "f28604b9-c3e3-4f3c-9a1b-0b46878b0aa0",
   "metadata": {},
   "outputs": [
    {
     "data": {
      "text/plain": [
       "10"
      ]
     },
     "execution_count": 30,
     "metadata": {},
     "output_type": "execute_result"
    }
   ],
   "source": [
    "np.array([[[[[[[[[[1,2,3]]]]]]]]]]).ndim"
   ]
  },
  {
   "cell_type": "markdown",
   "id": "d59dbfd1-7a3b-4d3d-8ace-cc03b7c29d69",
   "metadata": {},
   "source": [
    "# shape : it tells the number of elements in each dimension"
   ]
  },
  {
   "cell_type": "code",
   "execution_count": 10,
   "id": "eb32656a-78de-473a-8577-946cb55667d9",
   "metadata": {},
   "outputs": [
    {
     "name": "stdout",
     "output_type": "stream",
     "text": [
      "1\n"
     ]
    },
    {
     "data": {
      "text/plain": [
       "(4,)"
      ]
     },
     "execution_count": 10,
     "metadata": {},
     "output_type": "execute_result"
    }
   ],
   "source": [
    "a=np.array([2,20,12,101])\n",
    "print(a.ndim)\n",
    "a.shape"
   ]
  },
  {
   "cell_type": "code",
   "execution_count": 11,
   "id": "cce1f05c-3919-4978-bffd-aaf2022ef52a",
   "metadata": {},
   "outputs": [
    {
     "name": "stdout",
     "output_type": "stream",
     "text": [
      "2\n"
     ]
    },
    {
     "data": {
      "text/plain": [
       "(2, 4)"
      ]
     },
     "execution_count": 11,
     "metadata": {},
     "output_type": "execute_result"
    }
   ],
   "source": [
    "a=np.array([[2,20,12,101],[12,120,112,10]])\n",
    "print(a.ndim)\n",
    "a.shape"
   ]
  },
  {
   "cell_type": "code",
   "execution_count": 12,
   "id": "86c648aa-7e4c-44ad-a5fe-0f7bee0649db",
   "metadata": {},
   "outputs": [
    {
     "name": "stdout",
     "output_type": "stream",
     "text": [
      "2\n"
     ]
    },
    {
     "data": {
      "text/plain": [
       "(1, 6)"
      ]
     },
     "execution_count": 12,
     "metadata": {},
     "output_type": "execute_result"
    }
   ],
   "source": [
    "a=np.array([[1,5,4,5,6,7]])\n",
    "print(a.ndim)\n",
    "a.shape"
   ]
  },
  {
   "cell_type": "code",
   "execution_count": 13,
   "id": "b372ff26-e123-40c9-b2f4-c16ae9a0ba4e",
   "metadata": {},
   "outputs": [
    {
     "name": "stdout",
     "output_type": "stream",
     "text": [
      "3\n",
      "(1, 3, 1)\n"
     ]
    }
   ],
   "source": [
    "a=np.array([[[1],[9],[90]]])\n",
    "print(a.ndim)\n",
    "print(a.shape)"
   ]
  },
  {
   "cell_type": "markdown",
   "id": "a8b437a4-bfec-4bb1-bc4b-db880d1237b2",
   "metadata": {},
   "source": [
    "# task: 3,4,1"
   ]
  },
  {
   "cell_type": "code",
   "execution_count": 14,
   "id": "c4655a3d-dc36-43d4-9511-58a5169fd103",
   "metadata": {},
   "outputs": [],
   "source": [
    "a=np.array([[[1],[2],[5],[6]],[[7],[8],[93],[6]],[[6],[8],[8],[8]]])"
   ]
  },
  {
   "cell_type": "code",
   "execution_count": 15,
   "id": "894f5178-63cd-445b-a40c-7c8ba77ed6ed",
   "metadata": {},
   "outputs": [
    {
     "data": {
      "text/plain": [
       "array([[[ 1],\n",
       "        [ 2],\n",
       "        [ 5],\n",
       "        [ 6]],\n",
       "\n",
       "       [[ 7],\n",
       "        [ 8],\n",
       "        [93],\n",
       "        [ 6]],\n",
       "\n",
       "       [[ 6],\n",
       "        [ 8],\n",
       "        [ 8],\n",
       "        [ 8]]])"
      ]
     },
     "execution_count": 15,
     "metadata": {},
     "output_type": "execute_result"
    }
   ],
   "source": [
    "a"
   ]
  },
  {
   "cell_type": "code",
   "execution_count": 16,
   "id": "6b22625b-1a9e-468b-8812-bb9a1368e592",
   "metadata": {},
   "outputs": [
    {
     "data": {
      "text/plain": [
       "3"
      ]
     },
     "execution_count": 16,
     "metadata": {},
     "output_type": "execute_result"
    }
   ],
   "source": [
    "a.ndim"
   ]
  },
  {
   "cell_type": "code",
   "execution_count": 18,
   "id": "313ff687-97f7-495a-a428-0685f9b102ba",
   "metadata": {},
   "outputs": [
    {
     "data": {
      "text/plain": [
       "(3, 4, 1)"
      ]
     },
     "execution_count": 18,
     "metadata": {},
     "output_type": "execute_result"
    }
   ],
   "source": [
    "a.shape"
   ]
  },
  {
   "cell_type": "markdown",
   "id": "aa1306c2-de75-49e8-ad32-ea7926489104",
   "metadata": {},
   "source": [
    "# dtype: it tells the type of each element in the array"
   ]
  },
  {
   "cell_type": "code",
   "execution_count": 2,
   "id": "f8b1462d-e76d-46ff-bf89-9333557cf8ff",
   "metadata": {},
   "outputs": [],
   "source": [
    "import numpy as np"
   ]
  },
  {
   "cell_type": "code",
   "execution_count": 3,
   "id": "a5a78995-49e0-4cf6-ab17-1569ba88082f",
   "metadata": {},
   "outputs": [
    {
     "data": {
      "text/plain": [
       "array([1, 2, 3, 4])"
      ]
     },
     "execution_count": 3,
     "metadata": {},
     "output_type": "execute_result"
    }
   ],
   "source": [
    "a=np.array([1,2,3,4])\n",
    "a\n"
   ]
  },
  {
   "cell_type": "code",
   "execution_count": 4,
   "id": "c7e74128-dd5f-4c50-a73a-bef99bac1db3",
   "metadata": {},
   "outputs": [
    {
     "data": {
      "text/plain": [
       "dtype('int32')"
      ]
     },
     "execution_count": 4,
     "metadata": {},
     "output_type": "execute_result"
    }
   ],
   "source": [
    "a.dtype"
   ]
  },
  {
   "cell_type": "markdown",
   "id": "ac40d963-d600-4f50-ac97-c598653debfe",
   "metadata": {},
   "source": [
    "# size: tells the total numbers of elements in the array"
   ]
  },
  {
   "cell_type": "code",
   "execution_count": 5,
   "id": "c90723b4-ed71-4ad3-9b4a-05904362a9dc",
   "metadata": {},
   "outputs": [
    {
     "data": {
      "text/plain": [
       "(2, 4)"
      ]
     },
     "execution_count": 5,
     "metadata": {},
     "output_type": "execute_result"
    }
   ],
   "source": [
    "a=np.array([[1,2,3,4],[1,2,3,4]])\n",
    "a.shape"
   ]
  },
  {
   "cell_type": "code",
   "execution_count": 6,
   "id": "b43e9c40-e1df-43ea-8c6c-dc1e91c5c938",
   "metadata": {},
   "outputs": [
    {
     "data": {
      "text/plain": [
       "8"
      ]
     },
     "execution_count": 6,
     "metadata": {},
     "output_type": "execute_result"
    }
   ],
   "source": [
    "a.size"
   ]
  },
  {
   "cell_type": "markdown",
   "id": "200bf259-bb41-4285-b152-270c0669c28e",
   "metadata": {},
   "source": [
    "# itemsize: tells the memory occupied by each element of the array in bytes"
   ]
  },
  {
   "cell_type": "code",
   "execution_count": 7,
   "id": "b907ca8c-8243-446b-80ef-c9d8c5b01b16",
   "metadata": {},
   "outputs": [
    {
     "data": {
      "text/plain": [
       "4"
      ]
     },
     "execution_count": 7,
     "metadata": {},
     "output_type": "execute_result"
    }
   ],
   "source": [
    "a.itemsize"
   ]
  },
  {
   "cell_type": "code",
   "execution_count": 8,
   "id": "03c21ddb-f90d-4840-bcef-40fc027e48aa",
   "metadata": {},
   "outputs": [
    {
     "data": {
      "text/plain": [
       "dtype('int32')"
      ]
     },
     "execution_count": 8,
     "metadata": {},
     "output_type": "execute_result"
    }
   ],
   "source": [
    "a.dtype"
   ]
  },
  {
   "cell_type": "markdown",
   "id": "3c4ceaec-2f2f-4b54-9e24-ca67ce5efc9b",
   "metadata": {},
   "source": [
    "# difference between array and list"
   ]
  },
  {
   "cell_type": "markdown",
   "id": "f4e3fa40-31b0-491b-95a3-dcf1de54ad0c",
   "metadata": {},
   "source": [
    "-  Array Performs direct operation on array gives more comfort to handle operations\n",
    "-  Arrays are faster than list  \n",
    "-  Array takes less resource(memory)\n",
    "- data stored in contigious memory than list thats why array as faster"
   ]
  },
  {
   "cell_type": "code",
   "execution_count": 2,
   "id": "26aa5da2-8e32-48d8-8cec-b127c04eb25b",
   "metadata": {},
   "outputs": [
    {
     "name": "stdout",
     "output_type": "stream",
     "text": [
      "856\n",
      "4\n",
      "list takes : 85600 bytes\n",
      "array takes :  400 bytes\n"
     ]
    }
   ],
   "source": [
    "import sys\n",
    "import numpy as np\n",
    "l=list(range(100))\n",
    "a=np.arange(100)\n",
    "print(sys.getsizeof(l))\n",
    "print(a.itemsize)\n",
    "print(\"list takes :\",sys.getsizeof(l)*len(l),\"bytes\")  ##ys.getsizeof(l) : size of each element in the list\n",
    "print(\"array takes : \",a.itemsize*a.size,\"bytes\" ) ## itemsize: size of each element in the array.\n"
   ]
  },
  {
   "cell_type": "markdown",
   "id": "df3b7e55-40cc-4b8f-99f6-3cb555c6c19c",
   "metadata": {},
   "source": [
    "# indexing and slicing"
   ]
  },
  {
   "cell_type": "markdown",
   "id": "8ec7364f-80c7-4033-83df-97bae6c6d3b3",
   "metadata": {},
   "source": [
    "# 1 d"
   ]
  },
  {
   "cell_type": "code",
   "execution_count": 3,
   "id": "88a621e9-0886-4e07-966e-ee15b9fae550",
   "metadata": {},
   "outputs": [
    {
     "name": "stdout",
     "output_type": "stream",
     "text": [
      "[12  3  5  6  7  8 10 -1 45 56 78 90]\n"
     ]
    }
   ],
   "source": [
    "a=np.array([12,3,5,6,7,8,10,-1,45,56,78,90])\n",
    "print(a)"
   ]
  },
  {
   "cell_type": "markdown",
   "id": "2fb6a12a-bd3c-4006-9040-6ad01296b75b",
   "metadata": {},
   "source": [
    "# indexing "
   ]
  },
  {
   "cell_type": "code",
   "execution_count": 4,
   "id": "c1dc4869-44b7-41c7-a9c4-5b9b6f09eda0",
   "metadata": {},
   "outputs": [
    {
     "data": {
      "text/plain": [
       "10"
      ]
     },
     "execution_count": 4,
     "metadata": {},
     "output_type": "execute_result"
    }
   ],
   "source": [
    "a[6]"
   ]
  },
  {
   "cell_type": "markdown",
   "id": "ac6167bf-208a-4c1e-b180-ab65140d9421",
   "metadata": {},
   "source": [
    "# or"
   ]
  },
  {
   "cell_type": "code",
   "execution_count": 5,
   "id": "e4fa24af-92a6-4320-b53d-fa1a2462d3f2",
   "metadata": {},
   "outputs": [
    {
     "data": {
      "text/plain": [
       "10"
      ]
     },
     "execution_count": 5,
     "metadata": {},
     "output_type": "execute_result"
    }
   ],
   "source": [
    "a[-6]"
   ]
  },
  {
   "cell_type": "code",
   "execution_count": 6,
   "id": "047708f2-27e6-4b95-9611-0bc95ba08eba",
   "metadata": {},
   "outputs": [
    {
     "ename": "IndexError",
     "evalue": "index 100 is out of bounds for axis 0 with size 12",
     "output_type": "error",
     "traceback": [
      "\u001b[1;31m---------------------------------------------------------------------------\u001b[0m",
      "\u001b[1;31mIndexError\u001b[0m                                Traceback (most recent call last)",
      "Cell \u001b[1;32mIn[6], line 1\u001b[0m\n\u001b[1;32m----> 1\u001b[0m a[\u001b[38;5;241m100\u001b[39m]\n",
      "\u001b[1;31mIndexError\u001b[0m: index 100 is out of bounds for axis 0 with size 12"
     ]
    }
   ],
   "source": [
    "a[100]"
   ]
  },
  {
   "cell_type": "markdown",
   "id": "961a4f98-0ba1-43c9-a216-64852df9b83d",
   "metadata": {},
   "source": [
    "# slicing "
   ]
  },
  {
   "cell_type": "code",
   "execution_count": 7,
   "id": "4a8d1729-5c8e-4a8d-9627-c7978026161b",
   "metadata": {},
   "outputs": [
    {
     "data": {
      "text/plain": [
       "array([12,  3,  5,  6,  7,  8, 10, -1, 45, 56, 78, 90])"
      ]
     },
     "execution_count": 7,
     "metadata": {},
     "output_type": "execute_result"
    }
   ],
   "source": [
    "a"
   ]
  },
  {
   "cell_type": "code",
   "execution_count": 8,
   "id": "ff457dca-4e6d-4dec-8203-9ff850a9a7a4",
   "metadata": {},
   "outputs": [
    {
     "data": {
      "text/plain": [
       "array([ 6,  7,  8, 10])"
      ]
     },
     "execution_count": 8,
     "metadata": {},
     "output_type": "execute_result"
    }
   ],
   "source": [
    "a[3:7]"
   ]
  },
  {
   "cell_type": "code",
   "execution_count": 9,
   "id": "d16cc3b5-5f47-4f6a-aa8c-0452d6d6f6b3",
   "metadata": {},
   "outputs": [
    {
     "data": {
      "text/plain": [
       "array([45, 56, 78, 90])"
      ]
     },
     "execution_count": 9,
     "metadata": {},
     "output_type": "execute_result"
    }
   ],
   "source": [
    "a[-4:]"
   ]
  },
  {
   "cell_type": "code",
   "execution_count": 10,
   "id": "e9bcc19a-c04a-43a5-8724-d12f7f487a32",
   "metadata": {},
   "outputs": [
    {
     "data": {
      "text/plain": [
       "array([12,  3,  5,  6,  7,  8, 10, -1, 45, 56])"
      ]
     },
     "execution_count": 10,
     "metadata": {},
     "output_type": "execute_result"
    }
   ],
   "source": [
    "a[:-2]"
   ]
  },
  {
   "cell_type": "code",
   "execution_count": 11,
   "id": "8379f1d8-b89c-4236-ad84-f530d2c95806",
   "metadata": {},
   "outputs": [
    {
     "data": {
      "text/plain": [
       "array([ 5,  7, 10, 45])"
      ]
     },
     "execution_count": 11,
     "metadata": {},
     "output_type": "execute_result"
    }
   ],
   "source": [
    "a[2:-2:2]"
   ]
  },
  {
   "cell_type": "code",
   "execution_count": 12,
   "id": "ef0732b9-8226-48f1-a3fd-32e018cdd1e9",
   "metadata": {},
   "outputs": [
    {
     "data": {
      "text/plain": [
       "array([90, 78, 56, 45, -1, 10,  8,  7,  6,  5,  3, 12])"
      ]
     },
     "execution_count": 12,
     "metadata": {},
     "output_type": "execute_result"
    }
   ],
   "source": [
    "a[::-1]"
   ]
  },
  {
   "cell_type": "code",
   "execution_count": 13,
   "id": "a72c211f-f5fe-4b81-b368-9c2b6ba688fe",
   "metadata": {},
   "outputs": [
    {
     "data": {
      "text/plain": [
       "array([ 5,  7, 10, 45, 78])"
      ]
     },
     "execution_count": 13,
     "metadata": {},
     "output_type": "execute_result"
    }
   ],
   "source": [
    "a[2::2]"
   ]
  },
  {
   "cell_type": "code",
   "execution_count": 14,
   "id": "238e5135-6234-4456-ac22-de912a7ad87d",
   "metadata": {},
   "outputs": [
    {
     "data": {
      "text/plain": [
       "array([12,  3,  5,  6,  7,  8, 10, -1, 45, 56, 78, 90])"
      ]
     },
     "execution_count": 14,
     "metadata": {},
     "output_type": "execute_result"
    }
   ],
   "source": [
    "a"
   ]
  },
  {
   "cell_type": "markdown",
   "id": "064e800a-c4cc-41f1-99e0-03ab2582e7b9",
   "metadata": {},
   "source": [
    "# fetch 3,5,10,45,78 # discontinous form: fancy indexing"
   ]
  },
  {
   "cell_type": "code",
   "execution_count": 15,
   "id": "8270b100-aa0b-4d98-8a5d-4befa02b7e19",
   "metadata": {},
   "outputs": [
    {
     "data": {
      "text/plain": [
       "array([ 3,  5, 10, 45, 78])"
      ]
     },
     "execution_count": 15,
     "metadata": {},
     "output_type": "execute_result"
    }
   ],
   "source": [
    "a[[1,2,6,8,10]]"
   ]
  },
  {
   "cell_type": "markdown",
   "id": "16b51db3-86d8-4808-82bd-865f5c22fd8f",
   "metadata": {},
   "source": [
    "# indexing and slicing on 2 d "
   ]
  },
  {
   "cell_type": "code",
   "execution_count": 16,
   "id": "5b8280ae-1448-4051-a015-c1fccf79ad1d",
   "metadata": {},
   "outputs": [
    {
     "data": {
      "text/plain": [
       "array([[ 12,   3,   4,   5,   6],\n",
       "       [  1,   0,  40,  50,  60],\n",
       "       [120,  30,  -4,  23,  61],\n",
       "       [  0,   8,  27,  28,  29]])"
      ]
     },
     "execution_count": 16,
     "metadata": {},
     "output_type": "execute_result"
    }
   ],
   "source": [
    "a=np.array([[12,3,4,5,6],[1,0,40,50,60],[120,30,-4,23,61],[0,8,27,28,29]])\n",
    "a"
   ]
  },
  {
   "cell_type": "markdown",
   "id": "69e7a4d0-8f67-4510-b1cd-09e14959bff5",
   "metadata": {},
   "source": [
    "# indexing"
   ]
  },
  {
   "cell_type": "code",
   "execution_count": 17,
   "id": "29e0e839-a5a0-4c58-9ecd-3fc68987d5d3",
   "metadata": {},
   "outputs": [
    {
     "data": {
      "text/plain": [
       "array([ 1,  0, 40, 50, 60])"
      ]
     },
     "execution_count": 17,
     "metadata": {},
     "output_type": "execute_result"
    }
   ],
   "source": [
    "a[1]"
   ]
  },
  {
   "cell_type": "markdown",
   "id": "d53721a5-c74b-4760-a408-0354cff94e19",
   "metadata": {},
   "source": [
    "# or"
   ]
  },
  {
   "cell_type": "code",
   "execution_count": 18,
   "id": "f00642fc-0c46-453e-a937-58fbdc194512",
   "metadata": {},
   "outputs": [
    {
     "data": {
      "text/plain": [
       "array([ 1,  0, 40, 50, 60])"
      ]
     },
     "execution_count": 18,
     "metadata": {},
     "output_type": "execute_result"
    }
   ],
   "source": [
    "a[-3]"
   ]
  },
  {
   "cell_type": "code",
   "execution_count": 19,
   "id": "ab1671fe-858f-40ee-991e-49ebfb5ff55b",
   "metadata": {},
   "outputs": [
    {
     "ename": "IndexError",
     "evalue": "index 10 is out of bounds for axis 0 with size 4",
     "output_type": "error",
     "traceback": [
      "\u001b[1;31m---------------------------------------------------------------------------\u001b[0m",
      "\u001b[1;31mIndexError\u001b[0m                                Traceback (most recent call last)",
      "Cell \u001b[1;32mIn[19], line 1\u001b[0m\n\u001b[1;32m----> 1\u001b[0m a[\u001b[38;5;241m10\u001b[39m]\n",
      "\u001b[1;31mIndexError\u001b[0m: index 10 is out of bounds for axis 0 with size 4"
     ]
    }
   ],
   "source": [
    "a[10]"
   ]
  },
  {
   "cell_type": "code",
   "execution_count": 20,
   "id": "4a0ecc40-428c-4e17-920d-2fae4c0b10b8",
   "metadata": {},
   "outputs": [
    {
     "data": {
      "text/plain": [
       "array([12,  3,  4,  5,  6])"
      ]
     },
     "execution_count": 20,
     "metadata": {},
     "output_type": "execute_result"
    }
   ],
   "source": [
    "a[-4]"
   ]
  },
  {
   "cell_type": "markdown",
   "id": "36d394a2-6c76-436d-9e40-6d33a9c93564",
   "metadata": {},
   "source": [
    "# slicing "
   ]
  },
  {
   "cell_type": "code",
   "execution_count": 21,
   "id": "ea70e923-b3bb-4e7e-a142-d21d56ba96f8",
   "metadata": {},
   "outputs": [
    {
     "data": {
      "text/plain": [
       "array([[ 12,   3,   4,   5,   6],\n",
       "       [120,  30,  -4,  23,  61]])"
      ]
     },
     "execution_count": 21,
     "metadata": {},
     "output_type": "execute_result"
    }
   ],
   "source": [
    "a[0::2]"
   ]
  },
  {
   "cell_type": "code",
   "execution_count": 22,
   "id": "3b0aee94-4292-417a-b5a9-4e351166e749",
   "metadata": {},
   "outputs": [
    {
     "data": {
      "text/plain": [
       "array([[120,  30,  -4,  23,  61],\n",
       "       [  0,   8,  27,  28,  29]])"
      ]
     },
     "execution_count": 22,
     "metadata": {},
     "output_type": "execute_result"
    }
   ],
   "source": [
    "a[-2:]"
   ]
  },
  {
   "cell_type": "code",
   "execution_count": 23,
   "id": "96d788d4-d182-4789-aa2a-2aafa17235a2",
   "metadata": {},
   "outputs": [
    {
     "data": {
      "text/plain": [
       "array([[ 12,   3,   4,   5,   6],\n",
       "       [  1,   0,  40,  50,  60],\n",
       "       [120,  30,  -4,  23,  61]])"
      ]
     },
     "execution_count": 23,
     "metadata": {},
     "output_type": "execute_result"
    }
   ],
   "source": [
    "a[:-1]"
   ]
  },
  {
   "cell_type": "markdown",
   "id": "3520fb9f-f6b9-41ca-8de6-bd20bfe7af72",
   "metadata": {},
   "source": [
    "# fetch 40"
   ]
  },
  {
   "cell_type": "code",
   "execution_count": 24,
   "id": "44dd619e-f2ba-4f45-a2c7-79d44334d675",
   "metadata": {},
   "outputs": [
    {
     "data": {
      "text/plain": [
       "40"
      ]
     },
     "execution_count": 24,
     "metadata": {},
     "output_type": "execute_result"
    }
   ],
   "source": [
    "a[1][2]"
   ]
  },
  {
   "cell_type": "markdown",
   "id": "a087c74d-7ded-4234-9196-36b9d4c80ca7",
   "metadata": {},
   "source": [
    "# or"
   ]
  },
  {
   "cell_type": "code",
   "execution_count": 25,
   "id": "f2b601cd-b9dc-4a67-963c-0284554444dc",
   "metadata": {},
   "outputs": [
    {
     "data": {
      "text/plain": [
       "40"
      ]
     },
     "execution_count": 25,
     "metadata": {},
     "output_type": "execute_result"
    }
   ],
   "source": [
    "a[1,2]"
   ]
  },
  {
   "cell_type": "code",
   "execution_count": 26,
   "id": "ed016eec-5ee2-4704-bcad-7fc6e6a08047",
   "metadata": {},
   "outputs": [
    {
     "data": {
      "text/plain": [
       "array([[ 3,  5],\n",
       "       [ 0, 50],\n",
       "       [30, 23],\n",
       "       [ 8, 28]])"
      ]
     },
     "execution_count": 26,
     "metadata": {},
     "output_type": "execute_result"
    }
   ],
   "source": [
    "a[:,1::2]"
   ]
  },
  {
   "cell_type": "code",
   "execution_count": 27,
   "id": "74e2e4a3-d051-4c71-b9c3-93524133cdc9",
   "metadata": {},
   "outputs": [
    {
     "data": {
      "text/plain": [
       "array([[30, -4, 23, 61],\n",
       "       [ 8, 27, 28, 29]])"
      ]
     },
     "execution_count": 27,
     "metadata": {},
     "output_type": "execute_result"
    }
   ],
   "source": [
    "a[-2:,1:]"
   ]
  },
  {
   "cell_type": "code",
   "execution_count": 28,
   "id": "fbf0b551-39c4-4cc1-80a6-5e7fa1c759dd",
   "metadata": {},
   "outputs": [
    {
     "data": {
      "text/plain": [
       "array([[ 0, 40, 50],\n",
       "       [30, -4, 23],\n",
       "       [ 8, 27, 28]])"
      ]
     },
     "execution_count": 28,
     "metadata": {},
     "output_type": "execute_result"
    }
   ],
   "source": [
    "a[1:,1:-1]"
   ]
  },
  {
   "cell_type": "code",
   "execution_count": 29,
   "id": "7025a56e-33de-46ee-985b-cf8bfad2b8c9",
   "metadata": {},
   "outputs": [
    {
     "data": {
      "text/plain": [
       "array([[ 5,  6],\n",
       "       [50, 60],\n",
       "       [23, 61],\n",
       "       [28, 29]])"
      ]
     },
     "execution_count": 29,
     "metadata": {},
     "output_type": "execute_result"
    }
   ],
   "source": [
    "a[:,-2:]"
   ]
  },
  {
   "cell_type": "code",
   "execution_count": 30,
   "id": "77349b04-fad6-46bf-8a94-128d60b17735",
   "metadata": {},
   "outputs": [
    {
     "data": {
      "text/plain": [
       "array([120,  -4,  61])"
      ]
     },
     "execution_count": 30,
     "metadata": {},
     "output_type": "execute_result"
    }
   ],
   "source": [
    "a[2,0::2]"
   ]
  },
  {
   "cell_type": "code",
   "execution_count": 31,
   "id": "190d0088-6c73-4acb-936d-e1e8e32d848b",
   "metadata": {},
   "outputs": [
    {
     "data": {
      "text/plain": [
       "array([ 3,  4, 50, 29])"
      ]
     },
     "execution_count": 31,
     "metadata": {},
     "output_type": "execute_result"
    }
   ],
   "source": [
    "a[[0,0,1,3],[1,2,3,4]]"
   ]
  },
  {
   "cell_type": "markdown",
   "id": "394f1064-3b99-4c7e-bea0-366d9a786faa",
   "metadata": {},
   "source": [
    "# 3d "
   ]
  },
  {
   "cell_type": "code",
   "execution_count": 32,
   "id": "6cb06b2c-ceca-4cf0-bebb-709db327c8cf",
   "metadata": {},
   "outputs": [
    {
     "data": {
      "text/plain": [
       "array([[[ 12,  34,   5],\n",
       "        [132, 334,  53]],\n",
       "\n",
       "       [[112, 314,  51],\n",
       "        [ 32,  34,   5]]])"
      ]
     },
     "execution_count": 32,
     "metadata": {},
     "output_type": "execute_result"
    }
   ],
   "source": [
    "a=np.array([[[12,34,5],[132,334,53,]],[[112,314,51],[32,34,5,]]])\n",
    "a"
   ]
  },
  {
   "cell_type": "code",
   "execution_count": 33,
   "id": "0d653b19-2567-4c07-957d-7a0291d5f195",
   "metadata": {},
   "outputs": [
    {
     "data": {
      "text/plain": [
       "array([[ 12,  34,   5],\n",
       "       [132, 334,  53]])"
      ]
     },
     "execution_count": 33,
     "metadata": {},
     "output_type": "execute_result"
    }
   ],
   "source": [
    "a[0]"
   ]
  },
  {
   "cell_type": "code",
   "execution_count": 34,
   "id": "84ad007e-b2c3-4a45-9b88-a5a23416cfca",
   "metadata": {},
   "outputs": [
    {
     "data": {
      "text/plain": [
       "array([[112, 314,  51],\n",
       "       [ 32,  34,   5]])"
      ]
     },
     "execution_count": 34,
     "metadata": {},
     "output_type": "execute_result"
    }
   ],
   "source": [
    "a[1]"
   ]
  },
  {
   "cell_type": "code",
   "execution_count": 35,
   "id": "6703c417-090f-473e-b25f-53783838e9a0",
   "metadata": {},
   "outputs": [
    {
     "data": {
      "text/plain": [
       "34"
      ]
     },
     "execution_count": 35,
     "metadata": {},
     "output_type": "execute_result"
    }
   ],
   "source": [
    "a[1][1][1]"
   ]
  },
  {
   "cell_type": "markdown",
   "id": "9884ad8f-abda-4856-b1f8-3c3ea25feb04",
   "metadata": {},
   "source": [
    "# traversal on array"
   ]
  },
  {
   "cell_type": "code",
   "execution_count": 10,
   "id": "042d875f-1372-4209-8166-f43cabdd7c5c",
   "metadata": {},
   "outputs": [
    {
     "data": {
      "text/plain": [
       "array([[[1, 2, 3, 4],\n",
       "        [1, 2, 3, 4],\n",
       "        [1, 2, 3, 4],\n",
       "        [1, 2, 3, 4]]])"
      ]
     },
     "execution_count": 10,
     "metadata": {},
     "output_type": "execute_result"
    }
   ],
   "source": [
    "a=np.array([[[1,2,3,4],[1,2,3,4],[1,2,3,4],[1,2,3,4]]])\n",
    "a"
   ]
  },
  {
   "cell_type": "code",
   "execution_count": 11,
   "id": "38be4984-6ca5-46a4-ad47-cb4a8b5f42bc",
   "metadata": {},
   "outputs": [
    {
     "name": "stdout",
     "output_type": "stream",
     "text": [
      "1\n",
      "2\n",
      "3\n",
      "4\n",
      "1\n",
      "2\n",
      "3\n",
      "4\n",
      "1\n",
      "2\n",
      "3\n",
      "4\n",
      "1\n",
      "2\n",
      "3\n",
      "4\n"
     ]
    }
   ],
   "source": [
    "for i in a:\n",
    "    for j in i:\n",
    "        for k in j:\n",
    "            print(k)"
   ]
  },
  {
   "cell_type": "markdown",
   "id": "70c7f119-4f8d-417f-9ff5-c2838c0008bf",
   "metadata": {},
   "source": [
    "# or"
   ]
  },
  {
   "cell_type": "code",
   "execution_count": 12,
   "id": "eb22231f-3a36-41c3-9647-255e73f8403d",
   "metadata": {},
   "outputs": [
    {
     "name": "stdout",
     "output_type": "stream",
     "text": [
      "1\n",
      "2\n",
      "3\n",
      "4\n",
      "1\n",
      "2\n",
      "3\n",
      "4\n",
      "1\n",
      "2\n",
      "3\n",
      "4\n",
      "1\n",
      "2\n",
      "3\n",
      "4\n"
     ]
    }
   ],
   "source": [
    "for i in np.nditer(a):\n",
    "    print(i)"
   ]
  },
  {
   "cell_type": "markdown",
   "id": "1a989bfd-a12f-4adf-adbd-d21807f3d165",
   "metadata": {},
   "source": [
    "# filtering in array"
   ]
  },
  {
   "cell_type": "code",
   "execution_count": 38,
   "id": "bfc1368c-d402-4e14-9c89-6a3f05c99d63",
   "metadata": {},
   "outputs": [
    {
     "data": {
      "text/plain": [
       "array([[23, 56, 89,  3, 98, 12],\n",
       "       [23, 56, 89,  3, 98, 12]])"
      ]
     },
     "execution_count": 38,
     "metadata": {},
     "output_type": "execute_result"
    }
   ],
   "source": [
    "marks=np.array([[23,56,89,3,98,12],[23,56,89,3,98,12]])\n",
    "marks"
   ]
  },
  {
   "cell_type": "markdown",
   "id": "346710d7-f62b-48b9-b24a-871b86e522ac",
   "metadata": {},
   "source": [
    "# fetch those marks 50"
   ]
  },
  {
   "cell_type": "code",
   "execution_count": 19,
   "id": "f8d480e4-d71b-4e87-8fe3-6a16435d814a",
   "metadata": {},
   "outputs": [
    {
     "data": {
      "text/plain": [
       "array([[False,  True,  True, False,  True, False],\n",
       "       [False,  True,  True, False,  True, False]])"
      ]
     },
     "execution_count": 19,
     "metadata": {},
     "output_type": "execute_result"
    }
   ],
   "source": [
    "marks>50"
   ]
  },
  {
   "cell_type": "code",
   "execution_count": 20,
   "id": "15fd9c39-458b-4e70-9bef-cae4defc88fd",
   "metadata": {},
   "outputs": [
    {
     "data": {
      "text/plain": [
       "array([56, 89, 98, 56, 89, 98])"
      ]
     },
     "execution_count": 20,
     "metadata": {},
     "output_type": "execute_result"
    }
   ],
   "source": [
    "marks[marks>50] # masking"
   ]
  },
  {
   "cell_type": "code",
   "execution_count": 23,
   "id": "4a49ee58-fb7b-42a5-81e8-bb5c78b67db2",
   "metadata": {},
   "outputs": [
    {
     "data": {
      "text/plain": [
       "array([23,  3, 12, 23,  3, 12])"
      ]
     },
     "execution_count": 23,
     "metadata": {},
     "output_type": "execute_result"
    }
   ],
   "source": [
    "marks[(marks>50)==False] # masking"
   ]
  },
  {
   "cell_type": "markdown",
   "id": "6fddcfea-2be0-4f4e-809c-89636ec6f957",
   "metadata": {},
   "source": [
    "# if else: where"
   ]
  },
  {
   "cell_type": "markdown",
   "id": "40d609bd-c79f-4f12-bec9-8f1da9042235",
   "metadata": {},
   "source": [
    "# where\n",
    "- it returns the index where particular condition met\n",
    "- it works as if else"
   ]
  },
  {
   "cell_type": "code",
   "execution_count": 39,
   "id": "fb33d7a3-6170-4161-9463-6dd6cfbdabe2",
   "metadata": {},
   "outputs": [
    {
     "data": {
      "text/plain": [
       "array([[23, 56, 89,  3, 98, 12],\n",
       "       [23, 56, 89,  3, 98, 12]])"
      ]
     },
     "execution_count": 39,
     "metadata": {},
     "output_type": "execute_result"
    }
   ],
   "source": [
    "marks"
   ]
  },
  {
   "cell_type": "code",
   "execution_count": 26,
   "id": "cded4b3b-2be0-4e22-b611-e40266d73795",
   "metadata": {},
   "outputs": [
    {
     "data": {
      "text/plain": [
       "(array([0, 0, 0, 1, 1, 1], dtype=int64),\n",
       " array([1, 2, 4, 1, 2, 4], dtype=int64))"
      ]
     },
     "execution_count": 26,
     "metadata": {},
     "output_type": "execute_result"
    }
   ],
   "source": [
    "np.where(marks>50)"
   ]
  },
  {
   "cell_type": "code",
   "execution_count": 27,
   "id": "057f7f3a-e83d-4293-bd14-49bf1f478321",
   "metadata": {},
   "outputs": [
    {
     "data": {
      "text/plain": [
       "array([['fail', 'pass', 'pass', 'fail', 'pass', 'fail'],\n",
       "       ['fail', 'pass', 'pass', 'fail', 'pass', 'fail']], dtype='<U4')"
      ]
     },
     "execution_count": 27,
     "metadata": {},
     "output_type": "execute_result"
    }
   ],
   "source": [
    "np.where(marks>50,\"pass\",\"fail\")"
   ]
  },
  {
   "cell_type": "markdown",
   "id": "19a56db6-63dc-4bc0-be6f-3d33f4baaa36",
   "metadata": {},
   "source": [
    "# fail: even odd"
   ]
  },
  {
   "cell_type": "code",
   "execution_count": 40,
   "id": "f7629712-330e-45b3-b9db-ae8d60a539c8",
   "metadata": {},
   "outputs": [
    {
     "data": {
      "text/plain": [
       "array([['odd-fail', 'pass', 'pass', 'odd-fail', 'pass', 'even-fail'],\n",
       "       ['odd-fail', 'pass', 'pass', 'odd-fail', 'pass', 'even-fail']],\n",
       "      dtype='<U9')"
      ]
     },
     "execution_count": 40,
     "metadata": {},
     "output_type": "execute_result"
    }
   ],
   "source": [
    "np.where(marks>50,\"pass\",np.where(marks%2==0,\"even-fail\",\"odd-fail\"))"
   ]
  },
  {
   "cell_type": "markdown",
   "id": "c6216f8c-5fd0-478e-93f5-ccf1cea5c830",
   "metadata": {},
   "source": [
    "# some initialization"
   ]
  },
  {
   "cell_type": "markdown",
   "id": "17ce4b05-2947-4213-be13-52b158b24e6d",
   "metadata": {},
   "source": [
    "- zeros\n",
    "- ones\n",
    "- empty\n",
    "- full"
   ]
  },
  {
   "cell_type": "code",
   "execution_count": 42,
   "id": "3f2c6ca3-a8d7-4700-9836-4e8eb6b6785c",
   "metadata": {},
   "outputs": [
    {
     "data": {
      "text/plain": [
       "array([[0, 0, 0, 0],\n",
       "       [0, 0, 0, 0],\n",
       "       [0, 0, 0, 0]])"
      ]
     },
     "execution_count": 42,
     "metadata": {},
     "output_type": "execute_result"
    }
   ],
   "source": [
    "np.zeros([3,4],dtype=int)"
   ]
  },
  {
   "cell_type": "code",
   "execution_count": 43,
   "id": "9728a216-8d89-4a4d-bd28-c4f2d8f38a37",
   "metadata": {},
   "outputs": [
    {
     "data": {
      "text/plain": [
       "array([[1, 1, 1, 1],\n",
       "       [1, 1, 1, 1],\n",
       "       [1, 1, 1, 1]])"
      ]
     },
     "execution_count": 43,
     "metadata": {},
     "output_type": "execute_result"
    }
   ],
   "source": [
    "np.ones([3,4],dtype=int)"
   ]
  },
  {
   "cell_type": "code",
   "execution_count": 44,
   "id": "a0189071-1834-4719-9884-b225a92931dd",
   "metadata": {},
   "outputs": [
    {
     "data": {
      "text/plain": [
       "array([[-1, -1,  0,  0],\n",
       "       [ 0,  0,  0,  0],\n",
       "       [ 0,  0,  0,  0],\n",
       "       [ 0,  0,  0,  0],\n",
       "       [ 0,  0,  0,  0]])"
      ]
     },
     "execution_count": 44,
     "metadata": {},
     "output_type": "execute_result"
    }
   ],
   "source": [
    "np.empty([5,4],dtype=int)"
   ]
  },
  {
   "cell_type": "code",
   "execution_count": 45,
   "id": "f0700e76-2530-4ecb-8c2d-33dcc5280cd0",
   "metadata": {},
   "outputs": [
    {
     "data": {
      "text/plain": [
       "array([[9, 9, 9, 9],\n",
       "       [9, 9, 9, 9],\n",
       "       [9, 9, 9, 9],\n",
       "       [9, 9, 9, 9],\n",
       "       [9, 9, 9, 9]])"
      ]
     },
     "execution_count": 45,
     "metadata": {},
     "output_type": "execute_result"
    }
   ],
   "source": [
    "np.full([5,4],9)"
   ]
  },
  {
   "cell_type": "markdown",
   "id": "ff8bac51-fb48-4ff6-8bd3-777cb89ec959",
   "metadata": {},
   "source": [
    "# task : create an array of 5,5 : in which borders are ones and rest are zeros"
   ]
  },
  {
   "cell_type": "code",
   "execution_count": 46,
   "id": "2b34acfd-d6ac-4156-8187-894ab492bb38",
   "metadata": {},
   "outputs": [
    {
     "name": "stdin",
     "output_type": "stream",
     "text": [
      "enter the size  5\n"
     ]
    },
    {
     "data": {
      "text/plain": [
       "array([[1., 1., 1., 1., 1.],\n",
       "       [1., 1., 1., 1., 1.],\n",
       "       [1., 1., 1., 1., 1.],\n",
       "       [1., 1., 1., 1., 1.],\n",
       "       [1., 1., 1., 1., 1.]])"
      ]
     },
     "execution_count": 46,
     "metadata": {},
     "output_type": "execute_result"
    }
   ],
   "source": [
    "n=int(input(\"enter the size \"))\n",
    "a=np.ones([n,n])\n",
    "a"
   ]
  },
  {
   "cell_type": "code",
   "execution_count": 47,
   "id": "78ff31fd-52b9-4b88-bab8-0d3b3cba4219",
   "metadata": {},
   "outputs": [
    {
     "data": {
      "text/plain": [
       "array([[1., 1., 1., 1., 1.],\n",
       "       [1., 0., 0., 0., 1.],\n",
       "       [1., 0., 0., 0., 1.],\n",
       "       [1., 0., 0., 0., 1.],\n",
       "       [1., 1., 1., 1., 1.]])"
      ]
     },
     "execution_count": 47,
     "metadata": {},
     "output_type": "execute_result"
    }
   ],
   "source": [
    "a[1:-1,1:-1]=0\n",
    "a"
   ]
  },
  {
   "cell_type": "markdown",
   "id": "54b262bd-61d7-428c-b687-1087531ae2fb",
   "metadata": {},
   "source": [
    "# linspace: (start,end,number of elements) , where end is inclusive\n",
    "# arange:(start,end,stepsize): end is exclusive"
   ]
  },
  {
   "cell_type": "markdown",
   "id": "08a885d3-31f7-4668-b0a8-0d18d554aa9c",
   "metadata": {},
   "source": [
    "# arange: same as range "
   ]
  },
  {
   "cell_type": "code",
   "execution_count": 48,
   "id": "624b9ef3-62ff-41e6-9908-4add60456e4c",
   "metadata": {},
   "outputs": [
    {
     "data": {
      "text/plain": [
       "array([ 1,  7, 13, 19, 25])"
      ]
     },
     "execution_count": 48,
     "metadata": {},
     "output_type": "execute_result"
    }
   ],
   "source": [
    "np.arange(1,30,6)"
   ]
  },
  {
   "cell_type": "code",
   "execution_count": 49,
   "id": "d9ade291-cde5-40fe-b853-3215a168af5e",
   "metadata": {},
   "outputs": [
    {
     "data": {
      "text/plain": [
       "array([ 1. ,  6.8, 12.6, 18.4, 24.2, 30. ])"
      ]
     },
     "execution_count": 49,
     "metadata": {},
     "output_type": "execute_result"
    }
   ],
   "source": [
    "np.linspace(1,30,6)"
   ]
  },
  {
   "cell_type": "markdown",
   "id": "05ae5a88-e185-42fe-a8e0-0877cdb651b7",
   "metadata": {},
   "source": [
    "# copy and view "
   ]
  },
  {
   "cell_type": "code",
   "execution_count": 6,
   "id": "85e61b5f-f175-47eb-beeb-184da3127796",
   "metadata": {},
   "outputs": [
    {
     "data": {
      "text/plain": [
       "array([[  12,   34,    5,   67],\n",
       "       [ 112,  314, 5161,    7]])"
      ]
     },
     "execution_count": 6,
     "metadata": {},
     "output_type": "execute_result"
    }
   ],
   "source": [
    "a=np.array([[12,34,5,67],[112,314,5161,7]])\n",
    "a"
   ]
  },
  {
   "cell_type": "code",
   "execution_count": 7,
   "id": "24fddb8c-daa3-40d5-95ac-220eb85dac99",
   "metadata": {},
   "outputs": [
    {
     "name": "stdout",
     "output_type": "stream",
     "text": [
      "[[  12   34    5   67]\n",
      " [ 112  314 5161    7]]\n",
      "[[  12   34    5   67]\n",
      " [ 112  314 5161    7]]\n",
      "\n",
      "\n",
      "[[  12   34    5   67]\n",
      " [ 112  314 5161  700]]\n",
      "[[  12   34    5   67]\n",
      " [ 112  314 5161    7]]\n"
     ]
    }
   ],
   "source": [
    "print(a)\n",
    "a1=a.copy() #deep copy\n",
    "print(a1)\n",
    "print(\"\\n\")\n",
    "a1[1,-1]=700\n",
    "print(a1)\n",
    "print(a)"
   ]
  },
  {
   "cell_type": "code",
   "execution_count": 8,
   "id": "87aaff81-663c-49f3-af14-1eee690f854d",
   "metadata": {},
   "outputs": [
    {
     "name": "stdout",
     "output_type": "stream",
     "text": [
      "[[  12   34    5   67]\n",
      " [ 112  314 5161    7]]\n",
      "[[  12   34    5   67]\n",
      " [ 112  314 5161    7]]\n",
      "\n",
      "\n",
      "[[  12   34    5   67]\n",
      " [ 112  314 5161  700]]\n",
      "[[  12   34    5   67]\n",
      " [ 112  314 5161  700]]\n"
     ]
    }
   ],
   "source": [
    "print(a)\n",
    "a1=a.view() #shallow copy\n",
    "print(a1)\n",
    "print(\"\\n\")\n",
    "a1[1,-1]=700\n",
    "print(a1)\n",
    "print(a)"
   ]
  },
  {
   "cell_type": "markdown",
   "id": "2cdc9884-a8fe-4ed0-8a39-2c12c52a983b",
   "metadata": {},
   "source": [
    "# reshaping:\n",
    "\n",
    "we can reshape 2,6 into : \n",
    "\n",
    "- 3,4\n",
    "- 4,3\n",
    "- 1,12,\n",
    "- 12,1\n",
    "- 1,6,2\n",
    "etc\n"
   ]
  },
  {
   "cell_type": "markdown",
   "id": "0592d78e-7e97-4c84-8e56-f873507a3200",
   "metadata": {},
   "source": [
    "- reshape: deep copy \n",
    "- resize : shallow copy"
   ]
  },
  {
   "cell_type": "code",
   "execution_count": 53,
   "id": "3b801d37-e371-4718-806a-3e55285cc75e",
   "metadata": {},
   "outputs": [
    {
     "data": {
      "text/plain": [
       "array([[ 12,   3,   4,   5,   6,  10],\n",
       "       [112,  13, 114,  15,   6, 110]])"
      ]
     },
     "execution_count": 53,
     "metadata": {},
     "output_type": "execute_result"
    }
   ],
   "source": [
    "a=np.array([[12,3,4,5,6,10],[112,13,114,15,6,110]])\n",
    "a"
   ]
  },
  {
   "cell_type": "code",
   "execution_count": 54,
   "id": "d84e1094-edce-4c9b-b8a0-215bdce635f9",
   "metadata": {},
   "outputs": [
    {
     "data": {
      "text/plain": [
       "(2, 6)"
      ]
     },
     "execution_count": 54,
     "metadata": {},
     "output_type": "execute_result"
    }
   ],
   "source": [
    "a.shape"
   ]
  },
  {
   "cell_type": "code",
   "execution_count": 55,
   "id": "6b66b974-840d-4211-be4a-bc77fa8f70ce",
   "metadata": {},
   "outputs": [
    {
     "ename": "ValueError",
     "evalue": "cannot reshape array of size 12 into shape (5,6)",
     "output_type": "error",
     "traceback": [
      "\u001b[1;31m---------------------------------------------------------------------------\u001b[0m",
      "\u001b[1;31mValueError\u001b[0m                                Traceback (most recent call last)",
      "Cell \u001b[1;32mIn[55], line 1\u001b[0m\n\u001b[1;32m----> 1\u001b[0m a\u001b[38;5;241m.\u001b[39mreshape([\u001b[38;5;241m5\u001b[39m,\u001b[38;5;241m6\u001b[39m])\n",
      "\u001b[1;31mValueError\u001b[0m: cannot reshape array of size 12 into shape (5,6)"
     ]
    }
   ],
   "source": [
    "a.reshape([5,6])"
   ]
  },
  {
   "cell_type": "code",
   "execution_count": 56,
   "id": "08da28b8-00ac-4dc3-b082-57d812b7b916",
   "metadata": {},
   "outputs": [
    {
     "data": {
      "text/plain": [
       "array([[ 12,   3,   4,   5],\n",
       "       [  6,  10, 112,  13],\n",
       "       [114,  15,   6, 110]])"
      ]
     },
     "execution_count": 56,
     "metadata": {},
     "output_type": "execute_result"
    }
   ],
   "source": [
    "a.reshape([3,4])"
   ]
  },
  {
   "cell_type": "code",
   "execution_count": 57,
   "id": "64e18225-4608-4886-bcd9-55a199c6c167",
   "metadata": {},
   "outputs": [
    {
     "data": {
      "text/plain": [
       "array([[ 12,   3,   4],\n",
       "       [  5,   6,  10],\n",
       "       [112,  13, 114],\n",
       "       [ 15,   6, 110]])"
      ]
     },
     "execution_count": 57,
     "metadata": {},
     "output_type": "execute_result"
    }
   ],
   "source": [
    "a.reshape([4,3])"
   ]
  },
  {
   "cell_type": "code",
   "execution_count": 58,
   "id": "70ca021c-6c72-4cb2-804f-b182d0d1b879",
   "metadata": {},
   "outputs": [
    {
     "data": {
      "text/plain": [
       "array([[ 12,   3],\n",
       "       [  4,   5],\n",
       "       [  6,  10],\n",
       "       [112,  13],\n",
       "       [114,  15],\n",
       "       [  6, 110]])"
      ]
     },
     "execution_count": 58,
     "metadata": {},
     "output_type": "execute_result"
    }
   ],
   "source": [
    "a.reshape([6,2])"
   ]
  },
  {
   "cell_type": "code",
   "execution_count": 59,
   "id": "e44c5429-fb34-41fa-a2eb-e83e8f9056a6",
   "metadata": {},
   "outputs": [
    {
     "data": {
      "text/plain": [
       "array([[ 12,   3,   4,   5,   6,  10, 112,  13, 114,  15,   6, 110]])"
      ]
     },
     "execution_count": 59,
     "metadata": {},
     "output_type": "execute_result"
    }
   ],
   "source": [
    "a.reshape([1,12])"
   ]
  },
  {
   "cell_type": "code",
   "execution_count": 60,
   "id": "0f2a4080-eb51-410d-ae69-c0eb6bd843c0",
   "metadata": {},
   "outputs": [
    {
     "data": {
      "text/plain": [
       "array([[[ 12,   3,   4,   5],\n",
       "        [  6,  10, 112,  13],\n",
       "        [114,  15,   6, 110]]])"
      ]
     },
     "execution_count": 60,
     "metadata": {},
     "output_type": "execute_result"
    }
   ],
   "source": [
    "a.reshape([1,3,4])"
   ]
  },
  {
   "cell_type": "code",
   "execution_count": 61,
   "id": "525a5a92-1093-4eb8-9816-5932721f3c9f",
   "metadata": {},
   "outputs": [
    {
     "data": {
      "text/plain": [
       "array([[ 12,   3,   4,   5,   6,  10],\n",
       "       [112,  13, 114,  15,   6, 110]])"
      ]
     },
     "execution_count": 61,
     "metadata": {},
     "output_type": "execute_result"
    }
   ],
   "source": [
    "a=np.array([[12,3,4,5,6,10],[112,13,114,15,6,110]])\n",
    "a"
   ]
  },
  {
   "cell_type": "code",
   "execution_count": 62,
   "id": "6079b902-7421-48b4-82a8-acd86a5d5ae4",
   "metadata": {},
   "outputs": [],
   "source": [
    "a.resize([3,4])"
   ]
  },
  {
   "cell_type": "code",
   "execution_count": 63,
   "id": "0f3a01d6-b23a-411e-ac79-af1a9394f726",
   "metadata": {},
   "outputs": [
    {
     "data": {
      "text/plain": [
       "array([[ 12,   3,   4,   5],\n",
       "       [  6,  10, 112,  13],\n",
       "       [114,  15,   6, 110]])"
      ]
     },
     "execution_count": 63,
     "metadata": {},
     "output_type": "execute_result"
    }
   ],
   "source": [
    "a"
   ]
  },
  {
   "cell_type": "markdown",
   "id": "c9e3f5b1-a8a4-4ea0-b97c-99cc1c6f13ce",
   "metadata": {},
   "source": [
    "# flattening:\n",
    "- reshape(-1): shalow\n",
    "- ravel(): shalow\n",
    "- flatten(): deep"
   ]
  },
  {
   "cell_type": "code",
   "execution_count": 64,
   "id": "ea86d3a6-46c1-4694-af53-0287e6082f92",
   "metadata": {},
   "outputs": [
    {
     "data": {
      "text/plain": [
       "array([[[[ 12,   3,   4,   5,   6,  10],\n",
       "         [112,  13, 114,  15,   6, 110]]]])"
      ]
     },
     "execution_count": 64,
     "metadata": {},
     "output_type": "execute_result"
    }
   ],
   "source": [
    "a=np.array([[[[12,3,4,5,6,10],[112,13,114,15,6,110]]]])\n",
    "a"
   ]
  },
  {
   "cell_type": "code",
   "execution_count": 65,
   "id": "ea27df0a-5970-4bd6-ab36-e065d875976b",
   "metadata": {},
   "outputs": [
    {
     "data": {
      "text/plain": [
       "array([ 12,   3,   4,   5,   6,  10, 112,  13, 114,  15,   6, 110])"
      ]
     },
     "execution_count": 65,
     "metadata": {},
     "output_type": "execute_result"
    }
   ],
   "source": [
    "a1=a.reshape(-1)\n",
    "a1"
   ]
  },
  {
   "cell_type": "code",
   "execution_count": 66,
   "id": "e8f39688-7d0c-41e9-a3ce-412df12dd174",
   "metadata": {},
   "outputs": [],
   "source": [
    "a1[-1]=1000"
   ]
  },
  {
   "cell_type": "code",
   "execution_count": 67,
   "id": "34679361-bf78-4e29-9d6c-8f8583b8eb3e",
   "metadata": {},
   "outputs": [
    {
     "data": {
      "text/plain": [
       "array([  12,    3,    4,    5,    6,   10,  112,   13,  114,   15,    6,\n",
       "       1000])"
      ]
     },
     "execution_count": 67,
     "metadata": {},
     "output_type": "execute_result"
    }
   ],
   "source": [
    "a1"
   ]
  },
  {
   "cell_type": "code",
   "execution_count": 68,
   "id": "d8d238a5-d457-40bc-9658-710827965b16",
   "metadata": {},
   "outputs": [
    {
     "data": {
      "text/plain": [
       "array([[[[  12,    3,    4,    5,    6,   10],\n",
       "         [ 112,   13,  114,   15,    6, 1000]]]])"
      ]
     },
     "execution_count": 68,
     "metadata": {},
     "output_type": "execute_result"
    }
   ],
   "source": [
    "a"
   ]
  },
  {
   "cell_type": "code",
   "execution_count": 69,
   "id": "3ff91671-bbe1-408d-a01b-a2a3b646fefb",
   "metadata": {},
   "outputs": [
    {
     "data": {
      "text/plain": [
       "array([[[[ 12,   3,   4,   5,   6,  10],\n",
       "         [112,  13, 114,  15,   6, 110]]]])"
      ]
     },
     "execution_count": 69,
     "metadata": {},
     "output_type": "execute_result"
    }
   ],
   "source": [
    "a=np.array([[[[12,3,4,5,6,10],[112,13,114,15,6,110]]]])\n",
    "a"
   ]
  },
  {
   "cell_type": "code",
   "execution_count": 70,
   "id": "88af7a3c-74d6-4f61-b9b0-c5ea23e513e7",
   "metadata": {},
   "outputs": [
    {
     "data": {
      "text/plain": [
       "array([ 12,   3,   4,   5,   6,  10, 112,  13, 114,  15,   6, 110])"
      ]
     },
     "execution_count": 70,
     "metadata": {},
     "output_type": "execute_result"
    }
   ],
   "source": [
    "a1=a.ravel()\n",
    "a1"
   ]
  },
  {
   "cell_type": "code",
   "execution_count": 71,
   "id": "a613e6e4-18cd-4808-bafe-ad19faa0bb1f",
   "metadata": {},
   "outputs": [],
   "source": [
    "a1[-2]=60"
   ]
  },
  {
   "cell_type": "code",
   "execution_count": 72,
   "id": "d53b8a08-1d2b-4804-a70d-bce9cc956a15",
   "metadata": {},
   "outputs": [
    {
     "data": {
      "text/plain": [
       "array([ 12,   3,   4,   5,   6,  10, 112,  13, 114,  15,  60, 110])"
      ]
     },
     "execution_count": 72,
     "metadata": {},
     "output_type": "execute_result"
    }
   ],
   "source": [
    "a1"
   ]
  },
  {
   "cell_type": "code",
   "execution_count": 73,
   "id": "09de6e31-3e46-476f-b25f-fde2dc02a886",
   "metadata": {},
   "outputs": [
    {
     "data": {
      "text/plain": [
       "array([[[[ 12,   3,   4,   5,   6,  10],\n",
       "         [112,  13, 114,  15,  60, 110]]]])"
      ]
     },
     "execution_count": 73,
     "metadata": {},
     "output_type": "execute_result"
    }
   ],
   "source": [
    "a"
   ]
  },
  {
   "cell_type": "code",
   "execution_count": 74,
   "id": "3d3f1b66-3e56-4106-9353-a322602a5598",
   "metadata": {},
   "outputs": [
    {
     "data": {
      "text/plain": [
       "array([[[[ 12,   3,   4,   5,   6,  10],\n",
       "         [112,  13, 114,  15,   6, 110]]]])"
      ]
     },
     "execution_count": 74,
     "metadata": {},
     "output_type": "execute_result"
    }
   ],
   "source": [
    "a=np.array([[[[12,3,4,5,6,10],[112,13,114,15,6,110]]]])\n",
    "a"
   ]
  },
  {
   "cell_type": "code",
   "execution_count": 75,
   "id": "b5885843-8214-4585-8c74-cce04f3b81dd",
   "metadata": {},
   "outputs": [
    {
     "data": {
      "text/plain": [
       "array([ 12,   3,   4,   5,   6,  10, 112,  13, 114,  15,   6, 110])"
      ]
     },
     "execution_count": 75,
     "metadata": {},
     "output_type": "execute_result"
    }
   ],
   "source": [
    "a1=a.flatten()\n",
    "a1"
   ]
  },
  {
   "cell_type": "code",
   "execution_count": 76,
   "id": "c5773dd9-12d6-495e-90cc-910826168610",
   "metadata": {},
   "outputs": [
    {
     "data": {
      "text/plain": [
       "array([ 12,   3,   4,   5,   6,  10, 112,  13, 114,  15,   6, 100])"
      ]
     },
     "execution_count": 76,
     "metadata": {},
     "output_type": "execute_result"
    }
   ],
   "source": [
    "a1[-1]=100\n",
    "a1"
   ]
  },
  {
   "cell_type": "code",
   "execution_count": 77,
   "id": "da03b724-b3b6-4ac4-9472-9dea63f47940",
   "metadata": {},
   "outputs": [
    {
     "data": {
      "text/plain": [
       "array([[[[ 12,   3,   4,   5,   6,  10],\n",
       "         [112,  13, 114,  15,   6, 110]]]])"
      ]
     },
     "execution_count": 77,
     "metadata": {},
     "output_type": "execute_result"
    }
   ],
   "source": [
    "a"
   ]
  },
  {
   "cell_type": "markdown",
   "id": "5b87e34c-d754-4bc2-838f-8c4af29b7c5a",
   "metadata": {},
   "source": [
    "# matrix vs array:\n",
    "\n",
    "- matrix at most 2d while array could of n dimension\n",
    "- product of matrix treats diiferent "
   ]
  },
  {
   "cell_type": "code",
   "execution_count": 78,
   "id": "61d165b3-3842-4a43-90f2-ec13943706d3",
   "metadata": {},
   "outputs": [
    {
     "name": "stdout",
     "output_type": "stream",
     "text": [
      "[[ 1  1  1]\n",
      " [ 2  3  5]\n",
      " [ 3  0 10]]\n",
      "[[10 10  1]\n",
      " [20 30  5]\n",
      " [ 0  0 10]]\n"
     ]
    }
   ],
   "source": [
    "a1=np.mat([[1,1,1],[2,3,5],[3,0,10]])\n",
    "a2=np.mat([[10,10,1],[20,30,5],[0,0,10]])\n",
    "print(a1)\n",
    "print(a2)"
   ]
  },
  {
   "cell_type": "code",
   "execution_count": 79,
   "id": "01c7bdea-2743-4834-8f5f-a602f933cfdd",
   "metadata": {},
   "outputs": [
    {
     "data": {
      "text/plain": [
       "matrix([[ 30,  40,  16],\n",
       "        [ 80, 110,  67],\n",
       "        [ 30,  30, 103]])"
      ]
     },
     "execution_count": 79,
     "metadata": {},
     "output_type": "execute_result"
    }
   ],
   "source": [
    "a1*a2"
   ]
  },
  {
   "cell_type": "code",
   "execution_count": 80,
   "id": "348f16e5-19d0-4055-8b4a-73071baa9d49",
   "metadata": {},
   "outputs": [
    {
     "name": "stdout",
     "output_type": "stream",
     "text": [
      "[[ 1  1  1]\n",
      " [ 2  3  5]\n",
      " [ 3  0 10]]\n",
      "[[10 10  1]\n",
      " [20 30  5]\n",
      " [ 0  0 10]]\n",
      "\n",
      "\n"
     ]
    },
    {
     "data": {
      "text/plain": [
       "array([[ 10,  10,   1],\n",
       "       [ 40,  90,  25],\n",
       "       [  0,   0, 100]])"
      ]
     },
     "execution_count": 80,
     "metadata": {},
     "output_type": "execute_result"
    }
   ],
   "source": [
    "a1=np.array([[1,1,1],[2,3,5],[3,0,10]])\n",
    "a2=np.array([[10,10,1],[20,30,5],[0,0,10]])\n",
    "print(a1)\n",
    "print(a2)\n",
    "print(\"\\n\")\n",
    "a1*a2"
   ]
  },
  {
   "cell_type": "markdown",
   "id": "d2e6a393-05fe-4b1d-8c80-8e3ae37a6dab",
   "metadata": {},
   "source": [
    "# trace: sum of diagonal elements"
   ]
  },
  {
   "cell_type": "code",
   "execution_count": 81,
   "id": "cd3bb459-637e-4531-9c52-c1dbe3c0cc02",
   "metadata": {},
   "outputs": [],
   "source": [
    "a1=np.array([[1,1,1],[2,3,5],[3,0,10]])"
   ]
  },
  {
   "cell_type": "code",
   "execution_count": 82,
   "id": "edabeee7-9abb-450a-9482-a3cbcf44f1cd",
   "metadata": {},
   "outputs": [
    {
     "data": {
      "text/plain": [
       "array([[ 1,  1,  1],\n",
       "       [ 2,  3,  5],\n",
       "       [ 3,  0, 10]])"
      ]
     },
     "execution_count": 82,
     "metadata": {},
     "output_type": "execute_result"
    }
   ],
   "source": [
    "a1"
   ]
  },
  {
   "cell_type": "code",
   "execution_count": 83,
   "id": "13b2ed10-a3d9-4797-89cf-4d03c5f15d63",
   "metadata": {},
   "outputs": [
    {
     "data": {
      "text/plain": [
       "14"
      ]
     },
     "execution_count": 83,
     "metadata": {},
     "output_type": "execute_result"
    }
   ],
   "source": [
    "np.trace(a1)"
   ]
  },
  {
   "cell_type": "markdown",
   "id": "aaf2dbc3-9766-4739-86bc-e0f55caa8ded",
   "metadata": {},
   "source": [
    "# diag: \n",
    "- it fetches the diagonal element\n",
    "- it creates the array of diogonal elements"
   ]
  },
  {
   "cell_type": "code",
   "execution_count": 84,
   "id": "afd5e69e-e535-4ed3-bc7a-669badcfaa59",
   "metadata": {},
   "outputs": [
    {
     "data": {
      "text/plain": [
       "array([[ 1,  1,  1],\n",
       "       [ 2,  3,  5],\n",
       "       [ 3,  0, 10]])"
      ]
     },
     "execution_count": 84,
     "metadata": {},
     "output_type": "execute_result"
    }
   ],
   "source": [
    "a1"
   ]
  },
  {
   "cell_type": "code",
   "execution_count": 85,
   "id": "a8af3c39-97bf-422c-a6ee-074d4ce3298f",
   "metadata": {},
   "outputs": [
    {
     "data": {
      "text/plain": [
       "array([ 1,  3, 10])"
      ]
     },
     "execution_count": 85,
     "metadata": {},
     "output_type": "execute_result"
    }
   ],
   "source": [
    "np.diag(a1)"
   ]
  },
  {
   "cell_type": "code",
   "execution_count": 86,
   "id": "21e15d26-17c5-4239-823d-06ca2d32df18",
   "metadata": {},
   "outputs": [
    {
     "data": {
      "text/plain": [
       "array([1, 5])"
      ]
     },
     "execution_count": 86,
     "metadata": {},
     "output_type": "execute_result"
    }
   ],
   "source": [
    "np.diag(a1,k=1)"
   ]
  },
  {
   "cell_type": "code",
   "execution_count": 87,
   "id": "15bff50a-e4ab-4982-8fc8-7bf7bb439c8c",
   "metadata": {},
   "outputs": [
    {
     "data": {
      "text/plain": [
       "array([2, 0])"
      ]
     },
     "execution_count": 87,
     "metadata": {},
     "output_type": "execute_result"
    }
   ],
   "source": [
    "np.diag(a1,k=-1)"
   ]
  },
  {
   "cell_type": "code",
   "execution_count": 88,
   "id": "0d430d35-1392-473a-aba8-724beac758dd",
   "metadata": {},
   "outputs": [
    {
     "data": {
      "text/plain": [
       "array([[ 1,  1,  1],\n",
       "       [ 2,  3,  5],\n",
       "       [ 3,  0, 10]])"
      ]
     },
     "execution_count": 88,
     "metadata": {},
     "output_type": "execute_result"
    }
   ],
   "source": [
    "a1"
   ]
  },
  {
   "cell_type": "code",
   "execution_count": 89,
   "id": "9cd23050-b199-4261-ae26-8d03f7d34074",
   "metadata": {},
   "outputs": [
    {
     "data": {
      "text/plain": [
       "array([[12,  0,  0,  0,  0,  0,  0],\n",
       "       [ 0,  3,  0,  0,  0,  0,  0],\n",
       "       [ 0,  0,  4,  0,  0,  0,  0],\n",
       "       [ 0,  0,  0, 56,  0,  0,  0],\n",
       "       [ 0,  0,  0,  0,  7,  0,  0],\n",
       "       [ 0,  0,  0,  0,  0,  8,  0],\n",
       "       [ 0,  0,  0,  0,  0,  0, 10]])"
      ]
     },
     "execution_count": 89,
     "metadata": {},
     "output_type": "execute_result"
    }
   ],
   "source": [
    "np.diag([12,3,4,56,7,8,10])"
   ]
  },
  {
   "cell_type": "markdown",
   "id": "9da9ee7a-f253-4745-9274-5d5ff3563e66",
   "metadata": {},
   "source": [
    "# transpose"
   ]
  },
  {
   "cell_type": "code",
   "execution_count": 90,
   "id": "f5b615f3-b95b-496f-8bc1-6088627c9985",
   "metadata": {},
   "outputs": [
    {
     "data": {
      "text/plain": [
       "array([[ 1,  1,  1],\n",
       "       [ 2,  3,  5],\n",
       "       [ 3,  0, 10]])"
      ]
     },
     "execution_count": 90,
     "metadata": {},
     "output_type": "execute_result"
    }
   ],
   "source": [
    "a1"
   ]
  },
  {
   "cell_type": "code",
   "execution_count": 91,
   "id": "12454f31-74a5-4ef7-a864-55b38e399214",
   "metadata": {},
   "outputs": [
    {
     "data": {
      "text/plain": [
       "array([[ 1,  2,  3],\n",
       "       [ 1,  3,  0],\n",
       "       [ 1,  5, 10]])"
      ]
     },
     "execution_count": 91,
     "metadata": {},
     "output_type": "execute_result"
    }
   ],
   "source": [
    "a1.T"
   ]
  },
  {
   "cell_type": "code",
   "execution_count": 92,
   "id": "b1e997a6-7104-43c2-a7cd-3321b417f1b0",
   "metadata": {},
   "outputs": [
    {
     "data": {
      "text/plain": [
       "array([[[[ 12,   3,   4,   5,   6,  10],\n",
       "         [112,  13, 114,  15,   6, 110]]]])"
      ]
     },
     "execution_count": 92,
     "metadata": {},
     "output_type": "execute_result"
    }
   ],
   "source": [
    "a"
   ]
  },
  {
   "cell_type": "markdown",
   "id": "75829e86-1463-4192-bb09-6e3e7f7fb14c",
   "metadata": {},
   "source": [
    "# universal functions\n",
    "- sum\n",
    "- mean\n",
    "- floor\n",
    "- ceil\n",
    "- sqrt\n",
    "- argmax/argmin\n",
    "- median"
   ]
  },
  {
   "cell_type": "code",
   "execution_count": 9,
   "id": "1b4b8ae9-34bc-4b88-b0c1-b98403bc273d",
   "metadata": {},
   "outputs": [
    {
     "data": {
      "text/plain": [
       "array([[24. , 34.5, 12. ,  1. ],\n",
       "       [36. ,  3.4,  6. ,  0. ]])"
      ]
     },
     "execution_count": 9,
     "metadata": {},
     "output_type": "execute_result"
    }
   ],
   "source": [
    "import numpy as np\n",
    "a=np.array([[24,34.5,12,1],[36,3.4,6,0]])\n",
    "a"
   ]
  },
  {
   "cell_type": "code",
   "execution_count": 10,
   "id": "ea0ab5e7-06fc-4687-a20f-c7bcd2e63f5b",
   "metadata": {},
   "outputs": [
    {
     "data": {
      "text/plain": [
       "116.9"
      ]
     },
     "execution_count": 10,
     "metadata": {},
     "output_type": "execute_result"
    }
   ],
   "source": [
    "np.sum(a)"
   ]
  },
  {
   "cell_type": "code",
   "execution_count": 11,
   "id": "fbf7d5b2-2a7d-4d84-9d79-c6b24995daf2",
   "metadata": {},
   "outputs": [
    {
     "data": {
      "text/plain": [
       "14.6125"
      ]
     },
     "execution_count": 11,
     "metadata": {},
     "output_type": "execute_result"
    }
   ],
   "source": [
    "np.mean(a)"
   ]
  },
  {
   "cell_type": "code",
   "execution_count": 12,
   "id": "af26e0cc-39bc-46eb-be3b-58d07651484f",
   "metadata": {},
   "outputs": [
    {
     "data": {
      "text/plain": [
       "9.0"
      ]
     },
     "execution_count": 12,
     "metadata": {},
     "output_type": "execute_result"
    }
   ],
   "source": [
    "np.median(a)"
   ]
  },
  {
   "cell_type": "code",
   "execution_count": 13,
   "id": "39351bbd-7be1-4613-b74c-eafe96b31e5d",
   "metadata": {},
   "outputs": [
    {
     "data": {
      "text/plain": [
       "36.0"
      ]
     },
     "execution_count": 13,
     "metadata": {},
     "output_type": "execute_result"
    }
   ],
   "source": [
    "np.max(a)"
   ]
  },
  {
   "cell_type": "code",
   "execution_count": 14,
   "id": "3fa859a8-e030-41bc-acd2-dbddc5a48bc1",
   "metadata": {},
   "outputs": [
    {
     "data": {
      "text/plain": [
       "0.0"
      ]
     },
     "execution_count": 14,
     "metadata": {},
     "output_type": "execute_result"
    }
   ],
   "source": [
    "np.min(a)"
   ]
  },
  {
   "cell_type": "code",
   "execution_count": 15,
   "id": "394d2528-b936-4230-bfb1-7df8288601ac",
   "metadata": {},
   "outputs": [
    {
     "data": {
      "text/plain": [
       "array([34.5, 36. ])"
      ]
     },
     "execution_count": 15,
     "metadata": {},
     "output_type": "execute_result"
    }
   ],
   "source": [
    "np.max(a,axis=1)"
   ]
  },
  {
   "cell_type": "code",
   "execution_count": 16,
   "id": "fa8b9234-abd7-4df7-9b83-d4957da47e6f",
   "metadata": {},
   "outputs": [
    {
     "data": {
      "text/plain": [
       "array([[24. , 34.5, 12. ,  1. ],\n",
       "       [36. ,  3.4,  6. ,  0. ]])"
      ]
     },
     "execution_count": 16,
     "metadata": {},
     "output_type": "execute_result"
    }
   ],
   "source": [
    "a"
   ]
  },
  {
   "cell_type": "code",
   "execution_count": 17,
   "id": "9d378fcc-f0d0-44f0-a4b7-1f4742f40d3a",
   "metadata": {},
   "outputs": [
    {
     "data": {
      "text/plain": [
       "array([1., 0.])"
      ]
     },
     "execution_count": 17,
     "metadata": {},
     "output_type": "execute_result"
    }
   ],
   "source": [
    "np.min(a,axis=1)"
   ]
  },
  {
   "cell_type": "code",
   "execution_count": 18,
   "id": "574af445-b977-47e7-8acc-c6f858950d32",
   "metadata": {},
   "outputs": [
    {
     "data": {
      "text/plain": [
       "array([24. ,  3.4,  6. ,  0. ])"
      ]
     },
     "execution_count": 18,
     "metadata": {},
     "output_type": "execute_result"
    }
   ],
   "source": [
    "np.min(a,axis=0)"
   ]
  },
  {
   "cell_type": "code",
   "execution_count": 19,
   "id": "dee7f567-1dae-4355-bf97-ab8bf96fcd04",
   "metadata": {},
   "outputs": [
    {
     "data": {
      "text/plain": [
       "array([71.5, 45.4])"
      ]
     },
     "execution_count": 19,
     "metadata": {},
     "output_type": "execute_result"
    }
   ],
   "source": [
    "np.sum(a,axis=1)"
   ]
  },
  {
   "cell_type": "code",
   "execution_count": 20,
   "id": "5fb30404-bbd9-4563-935a-a50dd1c7e674",
   "metadata": {},
   "outputs": [
    {
     "data": {
      "text/plain": [
       "4"
      ]
     },
     "execution_count": 20,
     "metadata": {},
     "output_type": "execute_result"
    }
   ],
   "source": [
    "np.argmax(a)"
   ]
  },
  {
   "cell_type": "code",
   "execution_count": 21,
   "id": "d348d223-98a0-4191-9a52-3eb7bd786b26",
   "metadata": {},
   "outputs": [
    {
     "data": {
      "text/plain": [
       "array([[24. , 34.5, 12. ,  1. ],\n",
       "       [36. ,  3.4,  6. ,  0. ]])"
      ]
     },
     "execution_count": 21,
     "metadata": {},
     "output_type": "execute_result"
    }
   ],
   "source": [
    "a"
   ]
  },
  {
   "cell_type": "code",
   "execution_count": 22,
   "id": "3d17535e-edd6-4988-826a-d4bbaacec7ae",
   "metadata": {},
   "outputs": [
    {
     "data": {
      "text/plain": [
       "array([[24., 34., 12.,  1.],\n",
       "       [36.,  3.,  6.,  0.]])"
      ]
     },
     "execution_count": 22,
     "metadata": {},
     "output_type": "execute_result"
    }
   ],
   "source": [
    "np.floor(a)"
   ]
  },
  {
   "cell_type": "code",
   "execution_count": 23,
   "id": "d14ac453-10e6-47ed-be7b-dc8338306c15",
   "metadata": {},
   "outputs": [
    {
     "data": {
      "text/plain": [
       "array([[24., 35., 12.,  1.],\n",
       "       [36.,  4.,  6.,  0.]])"
      ]
     },
     "execution_count": 23,
     "metadata": {},
     "output_type": "execute_result"
    }
   ],
   "source": [
    "np.ceil(a)"
   ]
  },
  {
   "cell_type": "code",
   "execution_count": 24,
   "id": "07d1ce89-e9ae-4858-bb8d-21ac17db2eed",
   "metadata": {},
   "outputs": [
    {
     "data": {
      "text/plain": [
       "array([[4.89897949, 5.87367006, 3.46410162, 1.        ],\n",
       "       [6.        , 1.84390889, 2.44948974, 0.        ]])"
      ]
     },
     "execution_count": 24,
     "metadata": {},
     "output_type": "execute_result"
    }
   ],
   "source": [
    "np.sqrt(a)"
   ]
  },
  {
   "cell_type": "markdown",
   "id": "4616c008-97d2-4674-83bd-193d465086fc",
   "metadata": {},
   "source": [
    "# element wise operations"
   ]
  },
  {
   "cell_type": "code",
   "execution_count": 25,
   "id": "ad79c309-8635-46ca-8717-6a0d241b363e",
   "metadata": {},
   "outputs": [
    {
     "data": {
      "text/plain": [
       "array([[12,  3,  4,  5],\n",
       "       [ 1,  2,  1, 10]])"
      ]
     },
     "execution_count": 25,
     "metadata": {},
     "output_type": "execute_result"
    }
   ],
   "source": [
    "a1=np.array([[12,3,4,5],[1,2,1,10]])\n",
    "a2=np.array([[2,2,10,10],[1,2,0,10]])\n",
    "a1"
   ]
  },
  {
   "cell_type": "code",
   "execution_count": 26,
   "id": "c5ca680b-f27e-4e78-a769-c829e15c21b4",
   "metadata": {},
   "outputs": [
    {
     "data": {
      "text/plain": [
       "array([[ 2,  2, 10, 10],\n",
       "       [ 1,  2,  0, 10]])"
      ]
     },
     "execution_count": 26,
     "metadata": {},
     "output_type": "execute_result"
    }
   ],
   "source": [
    "a2"
   ]
  },
  {
   "cell_type": "code",
   "execution_count": 27,
   "id": "d98f7ca1-209e-456a-b501-5760293e0e1a",
   "metadata": {},
   "outputs": [
    {
     "data": {
      "text/plain": [
       "array([[14,  5, 14, 15],\n",
       "       [ 2,  4,  1, 20]])"
      ]
     },
     "execution_count": 27,
     "metadata": {},
     "output_type": "execute_result"
    }
   ],
   "source": [
    "a1+a2"
   ]
  },
  {
   "cell_type": "code",
   "execution_count": 28,
   "id": "10f2c549-b8cb-4f48-bb71-4b80e43955f9",
   "metadata": {},
   "outputs": [
    {
     "data": {
      "text/plain": [
       "array([[10,  1, -6, -5],\n",
       "       [ 0,  0,  1,  0]])"
      ]
     },
     "execution_count": 28,
     "metadata": {},
     "output_type": "execute_result"
    }
   ],
   "source": [
    "a1-a2"
   ]
  },
  {
   "cell_type": "code",
   "execution_count": 29,
   "id": "3ebda1b3-911c-4e97-b719-9dafd92825f1",
   "metadata": {},
   "outputs": [
    {
     "name": "stderr",
     "output_type": "stream",
     "text": [
      "C:\\Users\\HP\\AppData\\Local\\Temp\\ipykernel_312\\3705041958.py:1: RuntimeWarning: divide by zero encountered in divide\n",
      "  a1/a2\n"
     ]
    },
    {
     "data": {
      "text/plain": [
       "array([[6. , 1.5, 0.4, 0.5],\n",
       "       [1. , 1. , inf, 1. ]])"
      ]
     },
     "execution_count": 29,
     "metadata": {},
     "output_type": "execute_result"
    }
   ],
   "source": [
    "a1/a2"
   ]
  },
  {
   "cell_type": "code",
   "execution_count": 30,
   "id": "839a841c-b02c-429f-a825-ec20eed23fc6",
   "metadata": {},
   "outputs": [
    {
     "data": {
      "text/plain": [
       "array([[16,  7,  8,  9],\n",
       "       [ 5,  6,  5, 14]])"
      ]
     },
     "execution_count": 30,
     "metadata": {},
     "output_type": "execute_result"
    }
   ],
   "source": [
    "a1+4"
   ]
  },
  {
   "cell_type": "code",
   "execution_count": 31,
   "id": "066ba391-a37e-4d44-b0fe-b4272ba233c4",
   "metadata": {},
   "outputs": [
    {
     "data": {
      "text/plain": [
       "array([[ True, False,  True,  True],\n",
       "       [False, False, False,  True]])"
      ]
     },
     "execution_count": 31,
     "metadata": {},
     "output_type": "execute_result"
    }
   ],
   "source": [
    "a1>3"
   ]
  },
  {
   "cell_type": "code",
   "execution_count": 32,
   "id": "71a135bc-a0b8-4f0c-baa7-68641b03153b",
   "metadata": {},
   "outputs": [
    {
     "data": {
      "text/plain": [
       "(2, 4)"
      ]
     },
     "execution_count": 32,
     "metadata": {},
     "output_type": "execute_result"
    }
   ],
   "source": [
    "a1.shape"
   ]
  },
  {
   "cell_type": "code",
   "execution_count": 33,
   "id": "8dd1121b-61cc-4849-b694-b7d72b1cc104",
   "metadata": {},
   "outputs": [
    {
     "data": {
      "text/plain": [
       "(2, 4)"
      ]
     },
     "execution_count": 33,
     "metadata": {},
     "output_type": "execute_result"
    }
   ],
   "source": [
    "a2.shape"
   ]
  },
  {
   "cell_type": "markdown",
   "id": "f52f081a-60f6-4bbc-8192-05854e1d9a55",
   "metadata": {},
   "source": [
    "# broadcasting: It is the technique by which we can perform element wise operation on the arrays having different shape  provided they met some criteria"
   ]
  },
  {
   "cell_type": "code",
   "execution_count": 34,
   "id": "3ecf39f0-4598-4b50-b7fc-6c698d29639f",
   "metadata": {},
   "outputs": [
    {
     "name": "stdout",
     "output_type": "stream",
     "text": [
      "(2, 2)\n",
      "(2, 2)\n"
     ]
    },
    {
     "data": {
      "text/plain": [
       "array([[ 46,  15],\n",
       "       [113,  38]])"
      ]
     },
     "execution_count": 34,
     "metadata": {},
     "output_type": "execute_result"
    }
   ],
   "source": [
    "a1=np.array([[12,14],[90,34]])\n",
    "a2=np.array([[34,1],[23,4]])\n",
    "print(a1.shape)\n",
    "print(a2.shape)\n",
    "a1+a2"
   ]
  },
  {
   "cell_type": "code",
   "execution_count": 35,
   "id": "64a46235-c345-4a8f-9744-fe84c408cac7",
   "metadata": {},
   "outputs": [
    {
     "name": "stdout",
     "output_type": "stream",
     "text": [
      "(2, 2)\n",
      "(2, 3)\n"
     ]
    },
    {
     "ename": "ValueError",
     "evalue": "operands could not be broadcast together with shapes (2,2) (2,3) ",
     "output_type": "error",
     "traceback": [
      "\u001b[1;31m---------------------------------------------------------------------------\u001b[0m",
      "\u001b[1;31mValueError\u001b[0m                                Traceback (most recent call last)",
      "Cell \u001b[1;32mIn[35], line 5\u001b[0m\n\u001b[0;32m      3\u001b[0m \u001b[38;5;28mprint\u001b[39m(a1\u001b[38;5;241m.\u001b[39mshape)\n\u001b[0;32m      4\u001b[0m \u001b[38;5;28mprint\u001b[39m(a2\u001b[38;5;241m.\u001b[39mshape)\n\u001b[1;32m----> 5\u001b[0m a1\u001b[38;5;241m+\u001b[39ma2\n",
      "\u001b[1;31mValueError\u001b[0m: operands could not be broadcast together with shapes (2,2) (2,3) "
     ]
    }
   ],
   "source": [
    "a1=np.array([[12,14],[90,34]])\n",
    "a2=np.array([[34,1,3],[23,4,4]])\n",
    "print(a1.shape)\n",
    "print(a2.shape)\n",
    "a1+a2"
   ]
  },
  {
   "cell_type": "markdown",
   "id": "43179076-3483-4d14-990f-f3ed9ec6cf2c",
   "metadata": {},
   "source": [
    "# case 1 : when dimension is same, if either of dimension size is 1, then corresponding value is to be matched with opposite value"
   ]
  },
  {
   "cell_type": "code",
   "execution_count": 36,
   "id": "ca36cb29-baa5-4c73-8b9c-91ccec4fce2d",
   "metadata": {},
   "outputs": [
    {
     "name": "stdout",
     "output_type": "stream",
     "text": [
      "(2, 2)\n",
      "(1, 2)\n"
     ]
    },
    {
     "data": {
      "text/plain": [
       "array([[ 46,  15],\n",
       "       [124,  35]])"
      ]
     },
     "execution_count": 36,
     "metadata": {},
     "output_type": "execute_result"
    }
   ],
   "source": [
    "a1=np.array([[12,14],[90,34]])\n",
    "a2=np.array([[34,1]])\n",
    "print(a1.shape)\n",
    "print(a2.shape)\n",
    "a1+a2"
   ]
  },
  {
   "cell_type": "code",
   "execution_count": 37,
   "id": "30cef75e-03c0-4d9b-a27b-9cd116a19c44",
   "metadata": {},
   "outputs": [
    {
     "name": "stdout",
     "output_type": "stream",
     "text": [
      "(2, 3)\n",
      "(1, 2)\n"
     ]
    },
    {
     "ename": "ValueError",
     "evalue": "operands could not be broadcast together with shapes (2,3) (1,2) ",
     "output_type": "error",
     "traceback": [
      "\u001b[1;31m---------------------------------------------------------------------------\u001b[0m",
      "\u001b[1;31mValueError\u001b[0m                                Traceback (most recent call last)",
      "Cell \u001b[1;32mIn[37], line 5\u001b[0m\n\u001b[0;32m      3\u001b[0m \u001b[38;5;28mprint\u001b[39m(a1\u001b[38;5;241m.\u001b[39mshape)\n\u001b[0;32m      4\u001b[0m \u001b[38;5;28mprint\u001b[39m(a2\u001b[38;5;241m.\u001b[39mshape)\n\u001b[1;32m----> 5\u001b[0m a1\u001b[38;5;241m+\u001b[39ma2\n",
      "\u001b[1;31mValueError\u001b[0m: operands could not be broadcast together with shapes (2,3) (1,2) "
     ]
    }
   ],
   "source": [
    "a1=np.array([[12,14,4],[90,34,4]])\n",
    "a2=np.array([[34,1]])\n",
    "print(a1.shape)\n",
    "print(a2.shape)\n",
    "a1+a2"
   ]
  },
  {
   "cell_type": "code",
   "execution_count": 38,
   "id": "e8059aa1-1d19-48c7-8bc5-b3b44fe1bc22",
   "metadata": {},
   "outputs": [
    {
     "name": "stdout",
     "output_type": "stream",
     "text": [
      "(2, 2)\n",
      "(1, 3)\n"
     ]
    },
    {
     "ename": "ValueError",
     "evalue": "operands could not be broadcast together with shapes (2,2) (1,3) ",
     "output_type": "error",
     "traceback": [
      "\u001b[1;31m---------------------------------------------------------------------------\u001b[0m",
      "\u001b[1;31mValueError\u001b[0m                                Traceback (most recent call last)",
      "Cell \u001b[1;32mIn[38], line 5\u001b[0m\n\u001b[0;32m      3\u001b[0m \u001b[38;5;28mprint\u001b[39m(a1\u001b[38;5;241m.\u001b[39mshape)\n\u001b[0;32m      4\u001b[0m \u001b[38;5;28mprint\u001b[39m(a2\u001b[38;5;241m.\u001b[39mshape)\n\u001b[1;32m----> 5\u001b[0m a1\u001b[38;5;241m+\u001b[39ma2\n",
      "\u001b[1;31mValueError\u001b[0m: operands could not be broadcast together with shapes (2,2) (1,3) "
     ]
    }
   ],
   "source": [
    "a1=np.array([[12,14],[90,34]])\n",
    "a2=np.array([[34,1,3]])\n",
    "print(a1.shape)\n",
    "print(a2.shape)\n",
    "a1+a2"
   ]
  },
  {
   "cell_type": "markdown",
   "id": "6c2ea6bd-9963-43e1-80b0-ab14c7831706",
   "metadata": {},
   "source": [
    "# case 2: when dimension is different"
   ]
  },
  {
   "cell_type": "code",
   "execution_count": 39,
   "id": "8e4b81b7-1412-47e3-a2e5-d6a121ed691a",
   "metadata": {},
   "outputs": [
    {
     "name": "stdout",
     "output_type": "stream",
     "text": [
      "(1, 3, 2)\n",
      "(2, 2)\n"
     ]
    },
    {
     "ename": "ValueError",
     "evalue": "operands could not be broadcast together with shapes (1,3,2) (2,2) ",
     "output_type": "error",
     "traceback": [
      "\u001b[1;31m---------------------------------------------------------------------------\u001b[0m",
      "\u001b[1;31mValueError\u001b[0m                                Traceback (most recent call last)",
      "Cell \u001b[1;32mIn[39], line 5\u001b[0m\n\u001b[0;32m      3\u001b[0m a1\u001b[38;5;241m=\u001b[39mnp\u001b[38;5;241m.\u001b[39marray([[\u001b[38;5;241m10\u001b[39m,\u001b[38;5;241m10\u001b[39m],[\u001b[38;5;241m90\u001b[39m,\u001b[38;5;241m10\u001b[39m]])\n\u001b[0;32m      4\u001b[0m \u001b[38;5;28mprint\u001b[39m(a1\u001b[38;5;241m.\u001b[39mshape)\n\u001b[1;32m----> 5\u001b[0m a\u001b[38;5;241m+\u001b[39ma1\n",
      "\u001b[1;31mValueError\u001b[0m: operands could not be broadcast together with shapes (1,3,2) (2,2) "
     ]
    }
   ],
   "source": [
    "a=np.array([[[12,13],[89,90],[90,10]]])\n",
    "print(a.shape)\n",
    "a1=np.array([[10,10],[90,10]])\n",
    "print(a1.shape)\n",
    "a+a1"
   ]
  },
  {
   "cell_type": "code",
   "execution_count": 40,
   "id": "fac53b22-0b49-4b81-80f4-73fb885ac630",
   "metadata": {},
   "outputs": [
    {
     "name": "stdout",
     "output_type": "stream",
     "text": [
      "(1, 3, 3)\n",
      "(3, 3)\n"
     ]
    },
    {
     "data": {
      "text/plain": [
       "array([[[ 22,  23,   2],\n",
       "        [179, 100,   2],\n",
       "        [  1,   3,   2]]])"
      ]
     },
     "execution_count": 40,
     "metadata": {},
     "output_type": "execute_result"
    }
   ],
   "source": [
    "a=np.array([[[12,13,1],[89,90,1],[0,2,1]]])\n",
    "print(a.shape)\n",
    "a1=np.array([[10,10,1],[90,10,1],[1,1,1]])\n",
    "print(a1.shape)\n",
    "a+a1"
   ]
  },
  {
   "cell_type": "markdown",
   "id": "46fbeb9d-3284-4a1c-a59a-05d9b03a4358",
   "metadata": {},
   "source": [
    "# random"
   ]
  },
  {
   "cell_type": "markdown",
   "id": "9a5f98ba-a7e3-4a9f-ba26-854a0a8ebe40",
   "metadata": {},
   "source": [
    "# generate the random value from 0 to 1"
   ]
  },
  {
   "cell_type": "code",
   "execution_count": 53,
   "id": "74a82f80-cf51-40ce-bcb1-3b21853b909a",
   "metadata": {},
   "outputs": [
    {
     "data": {
      "text/plain": [
       "0.15416284237967237"
      ]
     },
     "execution_count": 53,
     "metadata": {},
     "output_type": "execute_result"
    }
   ],
   "source": [
    "np.random.seed(12) # seed is used to lock the random value # pass any number in ()\n",
    "np.random.random()"
   ]
  },
  {
   "cell_type": "markdown",
   "id": "6a14f806-567d-4d4a-8ea8-d502243550ca",
   "metadata": {},
   "source": [
    "# generate a  random  value from specified range"
   ]
  },
  {
   "cell_type": "code",
   "execution_count": 42,
   "id": "6e6de302-dce2-4926-84d2-c710cc9d0f85",
   "metadata": {},
   "outputs": [
    {
     "data": {
      "text/plain": [
       "37.522385432739426"
      ]
     },
     "execution_count": 42,
     "metadata": {},
     "output_type": "execute_result"
    }
   ],
   "source": [
    "np.random.uniform(2,50)"
   ]
  },
  {
   "cell_type": "markdown",
   "id": "fd917f76-ee55-4951-81be-b251653ca971",
   "metadata": {},
   "source": [
    "# generate a  random  value in int from specified range"
   ]
  },
  {
   "cell_type": "code",
   "execution_count": 43,
   "id": "c191194e-0094-421c-bd85-631e81b8f973",
   "metadata": {},
   "outputs": [
    {
     "data": {
      "text/plain": [
       "4"
      ]
     },
     "execution_count": 43,
     "metadata": {},
     "output_type": "execute_result"
    }
   ],
   "source": [
    "np.random.randint(2,50)"
   ]
  },
  {
   "cell_type": "markdown",
   "id": "57c04e95-99fe-47ad-a8ca-5dd2dbe7167e",
   "metadata": {},
   "source": [
    "# mutiple values"
   ]
  },
  {
   "cell_type": "code",
   "execution_count": 44,
   "id": "9c017103-c08f-4787-8a99-94ca8d30626f",
   "metadata": {},
   "outputs": [
    {
     "data": {
      "text/plain": [
       "array([ 5,  5, 14, 24,  7, 15, 27, 36, 13, 12])"
      ]
     },
     "execution_count": 44,
     "metadata": {},
     "output_type": "execute_result"
    }
   ],
   "source": [
    "np.random.randint(2,50,10)"
   ]
  },
  {
   "cell_type": "markdown",
   "id": "fa60e6ba-2d2b-4209-a7e6-0eb581eba91d",
   "metadata": {},
   "source": [
    "# create an array of shape 2,5 where the elements lies from 2 to 20"
   ]
  },
  {
   "cell_type": "code",
   "execution_count": 45,
   "id": "2c7c8810-9c15-4f1c-99ee-37e0b5bc30b1",
   "metadata": {},
   "outputs": [
    {
     "data": {
      "text/plain": [
       "array([[ 2, 10, 14, 15,  5],\n",
       "       [ 6,  5,  3,  2, 18]])"
      ]
     },
     "execution_count": 45,
     "metadata": {},
     "output_type": "execute_result"
    }
   ],
   "source": [
    "np.random.randint(2,20,10).reshape(2,5)"
   ]
  },
  {
   "cell_type": "code",
   "execution_count": 46,
   "id": "140cf7bf-22c8-4b20-b62d-46c1602e3fa7",
   "metadata": {},
   "outputs": [
    {
     "data": {
      "text/plain": [
       "array([[ 8, 15, 11, 15, 18],\n",
       "       [ 2, 16, 17,  3,  6]])"
      ]
     },
     "execution_count": 46,
     "metadata": {},
     "output_type": "execute_result"
    }
   ],
   "source": [
    "np.random.randint(2,20,[2,5])"
   ]
  },
  {
   "cell_type": "markdown",
   "id": "45d3bd8d-cbe4-4a67-9dd4-565f31fc7250",
   "metadata": {},
   "source": [
    "# randomly choose"
   ]
  },
  {
   "cell_type": "code",
   "execution_count": 47,
   "id": "e37a8fb3-80cc-4503-a0ac-38c5e8a8c181",
   "metadata": {},
   "outputs": [],
   "source": [
    "l=[\"card1\",\"card2\",\"card3\",\"card4\"]\n",
    "np.random.shuffle(l)"
   ]
  },
  {
   "cell_type": "code",
   "execution_count": 48,
   "id": "8b23b901-0ffe-41cb-834a-ff49995fe139",
   "metadata": {},
   "outputs": [
    {
     "data": {
      "text/plain": [
       "['card3', 'card2', 'card4', 'card1']"
      ]
     },
     "execution_count": 48,
     "metadata": {},
     "output_type": "execute_result"
    }
   ],
   "source": [
    "l"
   ]
  },
  {
   "cell_type": "code",
   "execution_count": 49,
   "id": "e616f891-c9e5-4dfd-af5a-47c472eccc29",
   "metadata": {},
   "outputs": [
    {
     "data": {
      "text/plain": [
       "'card1'"
      ]
     },
     "execution_count": 49,
     "metadata": {},
     "output_type": "execute_result"
    }
   ],
   "source": [
    "np.random.choice(l)"
   ]
  },
  {
   "cell_type": "markdown",
   "id": "10599103-bcee-4981-b005-efa4e57d9ded",
   "metadata": {},
   "source": [
    "# guess the number game"
   ]
  },
  {
   "cell_type": "code",
   "execution_count": 50,
   "id": "47c2d025-457e-48e4-a89e-b1b08889347b",
   "metadata": {},
   "outputs": [
    {
     "name": "stdout",
     "output_type": "stream",
     "text": [
      "lets play the game ..welcome user !!!\n",
      "guess the number from 1 to 100\n",
      "45\n"
     ]
    },
    {
     "name": "stdin",
     "output_type": "stream",
     "text": [
      "guess the number  6\n"
     ]
    },
    {
     "name": "stdout",
     "output_type": "stream",
     "text": [
      "guess the number higher side \n"
     ]
    },
    {
     "name": "stdin",
     "output_type": "stream",
     "text": [
      "guess the number  7\n"
     ]
    },
    {
     "name": "stdout",
     "output_type": "stream",
     "text": [
      "guess the number higher side \n"
     ]
    },
    {
     "name": "stdin",
     "output_type": "stream",
     "text": [
      "guess the number  7\n"
     ]
    },
    {
     "name": "stdout",
     "output_type": "stream",
     "text": [
      "guess the number higher side \n"
     ]
    },
    {
     "name": "stdin",
     "output_type": "stream",
     "text": [
      "guess the number  8\n"
     ]
    },
    {
     "name": "stdout",
     "output_type": "stream",
     "text": [
      "guess the number higher side \n"
     ]
    },
    {
     "name": "stdin",
     "output_type": "stream",
     "text": [
      "guess the number  9\n"
     ]
    },
    {
     "name": "stdout",
     "output_type": "stream",
     "text": [
      "guess the number higher side \n"
     ]
    },
    {
     "name": "stdin",
     "output_type": "stream",
     "text": [
      "guess the number  0\n"
     ]
    },
    {
     "name": "stdout",
     "output_type": "stream",
     "text": [
      "guess the number higher side \n"
     ]
    },
    {
     "name": "stdin",
     "output_type": "stream",
     "text": [
      "guess the number  6\n"
     ]
    },
    {
     "name": "stdout",
     "output_type": "stream",
     "text": [
      "guess the number higher side \n"
     ]
    },
    {
     "name": "stdin",
     "output_type": "stream",
     "text": [
      "guess the number  8\n"
     ]
    },
    {
     "name": "stdout",
     "output_type": "stream",
     "text": [
      "guess the number higher side \n"
     ]
    },
    {
     "name": "stdin",
     "output_type": "stream",
     "text": [
      "guess the number  45\n"
     ]
    },
    {
     "name": "stdout",
     "output_type": "stream",
     "text": [
      "won\n"
     ]
    }
   ],
   "source": [
    "print(\"lets play the game ..welcome user !!!\")\n",
    "print(\"guess the number from 1 to 100\")\n",
    "sys=np.random.randint(1,100)\n",
    "print(sys)\n",
    "while(True):\n",
    "    user=int(input(\"guess the number \"))\n",
    "    if user==sys:\n",
    "        print(\"won\")\n",
    "        break\n",
    "    else:\n",
    "        if sys<user:\n",
    "            print(\"guess the number lower side\")\n",
    "        else:\n",
    "            print(\"guess the number higher side \")\n",
    "        continue"
   ]
  },
  {
   "cell_type": "code",
   "execution_count": 51,
   "id": "eb31e1c2-84b1-4150-a152-3b35b47e128d",
   "metadata": {},
   "outputs": [
    {
     "name": "stdout",
     "output_type": "stream",
     "text": [
      "lets play the game ..welcome user !!!\n",
      "guess the number from 1 to 100\n",
      "38\n"
     ]
    },
    {
     "name": "stdin",
     "output_type": "stream",
     "text": [
      "guess the number  56\n"
     ]
    },
    {
     "name": "stdout",
     "output_type": "stream",
     "text": [
      "guess the number lower side\n"
     ]
    },
    {
     "name": "stdin",
     "output_type": "stream",
     "text": [
      "guess the number  78\n"
     ]
    },
    {
     "name": "stdout",
     "output_type": "stream",
     "text": [
      "guess the number lower side\n"
     ]
    },
    {
     "name": "stdin",
     "output_type": "stream",
     "text": [
      "guess the number  90\n"
     ]
    },
    {
     "name": "stdout",
     "output_type": "stream",
     "text": [
      "guess the number lower side\n"
     ]
    },
    {
     "name": "stdin",
     "output_type": "stream",
     "text": [
      "guess the number  2\n"
     ]
    },
    {
     "name": "stdout",
     "output_type": "stream",
     "text": [
      "guess the number higher side \n"
     ]
    },
    {
     "name": "stdin",
     "output_type": "stream",
     "text": [
      "guess the number  3\n"
     ]
    },
    {
     "name": "stdout",
     "output_type": "stream",
     "text": [
      "guess the number higher side \n",
      "u cross the limit\n"
     ]
    }
   ],
   "source": [
    "print(\"lets play the game ..welcome user !!!\")\n",
    "print(\"guess the number from 1 to 100\")\n",
    "sys=np.random.randint(1,100)\n",
    "print(sys)\n",
    "attempt=1\n",
    "while(attempt<6):\n",
    "    user=int(input(\"guess the number \"))\n",
    "    if user==sys:\n",
    "        print(\"won\",\"at atttempt    \",attempt)\n",
    "        break\n",
    "    else:\n",
    "        if sys<user:\n",
    "            print(\"guess the number lower side\")\n",
    "        else:\n",
    "            print(\"guess the number higher side \")\n",
    "        attempt=attempt+1\n",
    "        if attempt==6:\n",
    "            print(\"u cross the limit\")\n",
    "            break\n",
    "        continue"
   ]
  },
  {
   "cell_type": "markdown",
   "id": "6f39b264-6c02-4859-b2af-7aa82e75eeaa",
   "metadata": {},
   "source": [
    "# stone paper sciessor"
   ]
  },
  {
   "cell_type": "code",
   "execution_count": 2,
   "id": "c02ca9c3-6fd0-4e39-9b23-615104528ad6",
   "metadata": {},
   "outputs": [
    {
     "name": "stdin",
     "output_type": "stream",
     "text": [
      "Enter the number of rounds you want to play:  5\n",
      "Enter your choice (Stone, Paper, Scissors):  paper\n"
     ]
    },
    {
     "name": "stdout",
     "output_type": "stream",
     "text": [
      "Player chose Paper, Computer chose Scissors.\n",
      "The winner is: Computer\n",
      "\n"
     ]
    },
    {
     "name": "stdin",
     "output_type": "stream",
     "text": [
      "Enter your choice (Stone, Paper, Scissors):  stone\n"
     ]
    },
    {
     "name": "stdout",
     "output_type": "stream",
     "text": [
      "Player chose Stone, Computer chose Stone.\n",
      "It's a draw!\n",
      "\n"
     ]
    },
    {
     "name": "stdin",
     "output_type": "stream",
     "text": [
      "Enter your choice (Stone, Paper, Scissors):  stone\n"
     ]
    },
    {
     "name": "stdout",
     "output_type": "stream",
     "text": [
      "Player chose Stone, Computer chose Scissors.\n",
      "The winner is: Player\n",
      "\n"
     ]
    },
    {
     "name": "stdin",
     "output_type": "stream",
     "text": [
      "Enter your choice (Stone, Paper, Scissors):  sd\n"
     ]
    },
    {
     "name": "stdout",
     "output_type": "stream",
     "text": [
      "Invalid choice. Please choose again.\n"
     ]
    },
    {
     "name": "stdin",
     "output_type": "stream",
     "text": [
      "Enter your choice (Stone, Paper, Scissors):  paper\n"
     ]
    },
    {
     "name": "stdout",
     "output_type": "stream",
     "text": [
      "Player chose Paper, Computer chose Stone.\n",
      "The winner is: Player\n",
      "\n"
     ]
    },
    {
     "name": "stdin",
     "output_type": "stream",
     "text": [
      "Enter your choice (Stone, Paper, Scissors):  paper\n"
     ]
    },
    {
     "name": "stdout",
     "output_type": "stream",
     "text": [
      "Player chose Paper, Computer chose Stone.\n",
      "The winner is: Player\n",
      "\n",
      "\n",
      "Game Summary:\n",
      "  Player Choice Computer Choice    Winner\n",
      "0         Paper        Scissors  Computer\n",
      "1         Stone           Stone      Draw\n",
      "2         Stone        Scissors    Player\n",
      "3         Paper           Stone    Player\n",
      "4         Paper           Stone    Player\n"
     ]
    }
   ],
   "source": [
    "import numpy as np\n",
    "import pandas as pd\n",
    "\n",
    "# Define the choices\n",
    "choices = ['Stone', 'Paper', 'Scissors']\n",
    "\n",
    "# Define the rules as a dictionary\n",
    "rules = {\n",
    "    'Stone': 'Scissors',  # Stone beats Scissors\n",
    "    'Scissors': 'Paper',  # Scissors beats Paper\n",
    "    'Paper': 'Stone'      # Paper beats Stone\n",
    "}\n",
    "\n",
    "# Function to determine the winner\n",
    "def determine_winner(player, computer):\n",
    "    if player == computer:\n",
    "        return 'Draw'\n",
    "    elif rules[player] == computer:\n",
    "        return 'Player'\n",
    "    else:\n",
    "        return 'Computer'\n",
    "\n",
    "# Function to play the game\n",
    "def play_game(rounds=1):\n",
    "    results = []\n",
    "\n",
    "    for _ in range(rounds):\n",
    "        # Player's choice\n",
    "        player_choice = input(\"Enter your choice (Stone, Paper, Scissors): \").capitalize()\n",
    "        while player_choice not in choices:\n",
    "            print(\"Invalid choice. Please choose again.\")\n",
    "            player_choice = input(\"Enter your choice (Stone, Paper, Scissors): \").capitalize()\n",
    "        \n",
    "        # Computer's choice\n",
    "        computer_choice = np.random.choice(choices)\n",
    "        \n",
    "        # Determine the winner\n",
    "        winner = determine_winner(player_choice, computer_choice)\n",
    "        \n",
    "        # Append the result\n",
    "        results.append({\n",
    "            'Player Choice': player_choice,\n",
    "            'Computer Choice': computer_choice,\n",
    "            'Winner': winner\n",
    "        })\n",
    "        \n",
    "        # Provide immediate feedback\n",
    "        print(f\"Player chose {player_choice}, Computer chose {computer_choice}.\")\n",
    "        if winner == 'Draw':\n",
    "            print(\"It's a draw!\")\n",
    "        else:\n",
    "            print(f\"The winner is: {winner}\")\n",
    "        print()\n",
    "    \n",
    "    # Convert results to DataFrame\n",
    "    results_df = pd.DataFrame(results)\n",
    "    return results_df\n",
    "\n",
    "# Main function to run the interactive game\n",
    "if __name__ == \"__main__\":\n",
    "    num_rounds = int(input(\"Enter the number of rounds you want to play: \"))\n",
    "    game_results = play_game(num_rounds)\n",
    "    print(\"\\nGame Summary:\")\n",
    "    print(game_results)\n"
   ]
  },
  {
   "cell_type": "code",
   "execution_count": null,
   "id": "a611a91c-ae0d-4e0b-8f65-003467fd664b",
   "metadata": {},
   "outputs": [],
   "source": []
  }
 ],
 "metadata": {
  "kernelspec": {
   "display_name": "Python 3 (ipykernel)",
   "language": "python",
   "name": "python3"
  },
  "language_info": {
   "codemirror_mode": {
    "name": "ipython",
    "version": 3
   },
   "file_extension": ".py",
   "mimetype": "text/x-python",
   "name": "python",
   "nbconvert_exporter": "python",
   "pygments_lexer": "ipython3",
   "version": "3.11.7"
  }
 },
 "nbformat": 4,
 "nbformat_minor": 5
}
